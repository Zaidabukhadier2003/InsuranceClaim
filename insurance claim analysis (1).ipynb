{
 "cells": [
  {
   "cell_type": "markdown",
   "id": "f42cab89",
   "metadata": {
    "papermill": {
     "duration": 0.022647,
     "end_time": "2023-06-21T10:22:33.041535",
     "exception": false,
     "start_time": "2023-06-21T10:22:33.018888",
     "status": "completed"
    },
    "tags": []
   },
   "source": [
    "# Importing Requried libraries :-"
   ]
  },
  {
   "cell_type": "code",
   "execution_count": 11,
   "id": "3c71a9d3",
   "metadata": {
    "execution": {
     "iopub.execute_input": "2023-06-21T10:22:33.089199Z",
     "iopub.status.busy": "2023-06-21T10:22:33.088826Z",
     "iopub.status.idle": "2023-06-21T10:22:34.579198Z",
     "shell.execute_reply": "2023-06-21T10:22:34.578237Z"
    },
    "papermill": {
     "duration": 1.517718,
     "end_time": "2023-06-21T10:22:34.582161",
     "exception": false,
     "start_time": "2023-06-21T10:22:33.064443",
     "status": "completed"
    },
    "tags": [],
    "ExecuteTime": {
     "end_time": "2024-03-30T16:45:24.443594600Z",
     "start_time": "2024-03-30T16:45:19.731582400Z"
    }
   },
   "outputs": [],
   "source": [
    "import pandas as pd\n",
    "import numpy as np\n",
    "import matplotlib.pyplot as plt\n",
    "import seaborn as sns\n",
    "import plotly.express as px\n",
    "import plotly.graph_objects as go\n"
   ]
  },
  {
   "cell_type": "markdown",
   "id": "93a373c1",
   "metadata": {
    "papermill": {
     "duration": 0.022939,
     "end_time": "2023-06-21T10:22:34.628353",
     "exception": false,
     "start_time": "2023-06-21T10:22:34.605414",
     "status": "completed"
    },
    "tags": []
   },
   "source": [
    "# Loading Datasets :-"
   ]
  },
  {
   "cell_type": "code",
   "execution_count": 12,
   "id": "276b23c3",
   "metadata": {
    "execution": {
     "iopub.execute_input": "2023-06-21T10:22:34.676438Z",
     "iopub.status.busy": "2023-06-21T10:22:34.675716Z",
     "iopub.status.idle": "2023-06-21T10:22:34.734705Z",
     "shell.execute_reply": "2023-06-21T10:22:34.733479Z"
    },
    "papermill": {
     "duration": 0.085729,
     "end_time": "2023-06-21T10:22:34.737331",
     "exception": false,
     "start_time": "2023-06-21T10:22:34.651602",
     "status": "completed"
    },
    "tags": [],
    "ExecuteTime": {
     "end_time": "2024-03-30T16:45:24.842178Z",
     "start_time": "2024-03-30T16:45:19.762888400Z"
    }
   },
   "outputs": [
    {
     "data": {
      "text/plain": "   index  PatientID   age gender   bmi  bloodpressure diabetic  children  \\\n0      0          1  39.0   male  23.2             91      Yes         0   \n1      1          2  24.0   male  30.1             87       No         0   \n2      2          3   NaN   male  33.3             82      Yes         0   \n3      3          4   NaN   male  33.7             80       No         0   \n4      4          5   NaN   male  34.1            100       No         0   \n\n  smoker     region    claim  \n0     No  southeast  1121.87  \n1     No  southeast  1131.51  \n2     No  southeast  1135.94  \n3     No  northwest  1136.40  \n4     No  northwest  1137.01  ",
      "text/html": "<div>\n<style scoped>\n    .dataframe tbody tr th:only-of-type {\n        vertical-align: middle;\n    }\n\n    .dataframe tbody tr th {\n        vertical-align: top;\n    }\n\n    .dataframe thead th {\n        text-align: right;\n    }\n</style>\n<table border=\"1\" class=\"dataframe\">\n  <thead>\n    <tr style=\"text-align: right;\">\n      <th></th>\n      <th>index</th>\n      <th>PatientID</th>\n      <th>age</th>\n      <th>gender</th>\n      <th>bmi</th>\n      <th>bloodpressure</th>\n      <th>diabetic</th>\n      <th>children</th>\n      <th>smoker</th>\n      <th>region</th>\n      <th>claim</th>\n    </tr>\n  </thead>\n  <tbody>\n    <tr>\n      <th>0</th>\n      <td>0</td>\n      <td>1</td>\n      <td>39.0</td>\n      <td>male</td>\n      <td>23.2</td>\n      <td>91</td>\n      <td>Yes</td>\n      <td>0</td>\n      <td>No</td>\n      <td>southeast</td>\n      <td>1121.87</td>\n    </tr>\n    <tr>\n      <th>1</th>\n      <td>1</td>\n      <td>2</td>\n      <td>24.0</td>\n      <td>male</td>\n      <td>30.1</td>\n      <td>87</td>\n      <td>No</td>\n      <td>0</td>\n      <td>No</td>\n      <td>southeast</td>\n      <td>1131.51</td>\n    </tr>\n    <tr>\n      <th>2</th>\n      <td>2</td>\n      <td>3</td>\n      <td>NaN</td>\n      <td>male</td>\n      <td>33.3</td>\n      <td>82</td>\n      <td>Yes</td>\n      <td>0</td>\n      <td>No</td>\n      <td>southeast</td>\n      <td>1135.94</td>\n    </tr>\n    <tr>\n      <th>3</th>\n      <td>3</td>\n      <td>4</td>\n      <td>NaN</td>\n      <td>male</td>\n      <td>33.7</td>\n      <td>80</td>\n      <td>No</td>\n      <td>0</td>\n      <td>No</td>\n      <td>northwest</td>\n      <td>1136.40</td>\n    </tr>\n    <tr>\n      <th>4</th>\n      <td>4</td>\n      <td>5</td>\n      <td>NaN</td>\n      <td>male</td>\n      <td>34.1</td>\n      <td>100</td>\n      <td>No</td>\n      <td>0</td>\n      <td>No</td>\n      <td>northwest</td>\n      <td>1137.01</td>\n    </tr>\n  </tbody>\n</table>\n</div>"
     },
     "execution_count": 12,
     "metadata": {},
     "output_type": "execute_result"
    }
   ],
   "source": [
    "df = pd.read_csv(\"insurance_data.csv\")\n",
    "df.head()"
   ]
  },
  {
   "cell_type": "code",
   "execution_count": 13,
   "id": "da17686a",
   "metadata": {
    "ExecuteTime": {
     "end_time": "2024-03-30T16:45:26.660023100Z",
     "start_time": "2024-03-30T16:45:19.863721100Z"
    }
   },
   "outputs": [
    {
     "data": {
      "text/plain": "<Axes: >"
     },
     "execution_count": 13,
     "metadata": {},
     "output_type": "execute_result"
    },
    {
     "data": {
      "text/plain": "<Figure size 640x480 with 1 Axes>",
      "image/png": "[encoded data removed]"
     },
     "metadata": {},
     "output_type": "display_data"
    }
   ],
   "source": [
    "df['claim'].plot(kind='line')"
   ]
  },
  {
   "cell_type": "markdown",
   "id": "7480c3ca",
   "metadata": {
    "execution": {
     "iopub.execute_input": "2023-06-05T08:59:45.864346Z",
     "iopub.status.busy": "2023-06-05T08:59:45.863766Z"
    },
    "papermill": {
     "duration": 0.022862,
     "end_time": "2023-06-21T10:22:34.784195",
     "exception": false,
     "start_time": "2023-06-21T10:22:34.761333",
     "status": "completed"
    },
    "tags": []
   },
   "source": [
    "# About Dataset :-\n",
    "# **Column name & Descriptions**\n",
    "\n",
    "- **Index** : Indexes\n",
    "- **PateintID** : Unique Id For Each And Every Person\n",
    "- **age** : Age Of The Person\n",
    "- **gender** : Gender (Male or Female)\n",
    "- **bmi** : Bmi Value For Each Person, BMI Stands For **Body Mass Index.**\n",
    "- **bloodpresurre** : Blood pressure Value For Each Person\n",
    "- **Diabetic** : Whether the insured person is diabetic or not. (Boolean)\n",
    "- **Children** : Number of children of the insured person. (Integer)\n",
    "- **Smoker** : Whether the insured person is a smoker or not. (Boolean)\n",
    "- **region** : There are Four Region ('southeast','northwest','southwest','northeast')\n",
    "- **Claim** : Amount of the insurance claim. (Float)\n"
   ]
  },
  {
   "cell_type": "markdown",
   "id": "03fa4148",
   "metadata": {
    "papermill": {
     "duration": 0.022976,
     "end_time": "2023-06-21T10:22:34.830374",
     "exception": false,
     "start_time": "2023-06-21T10:22:34.807398",
     "status": "completed"
    },
    "tags": []
   },
   "source": [
    "# Basic Information Of Dataset :-"
   ]
  },
  {
   "cell_type": "code",
   "execution_count": 14,
   "id": "39c39e92",
   "metadata": {
    "execution": {
     "iopub.execute_input": "2023-06-21T10:22:34.878782Z",
     "iopub.status.busy": "2023-06-21T10:22:34.878409Z",
     "iopub.status.idle": "2023-06-21T10:22:34.884728Z",
     "shell.execute_reply": "2023-06-21T10:22:34.883576Z"
    },
    "papermill": {
     "duration": 0.033525,
     "end_time": "2023-06-21T10:22:34.887164",
     "exception": false,
     "start_time": "2023-06-21T10:22:34.853639",
     "status": "completed"
    },
    "tags": [],
    "ExecuteTime": {
     "end_time": "2024-03-30T16:45:26.754770900Z",
     "start_time": "2024-03-30T16:45:20.681033800Z"
    }
   },
   "outputs": [
    {
     "data": {
      "text/plain": "(1340, 11)"
     },
     "execution_count": 14,
     "metadata": {},
     "output_type": "execute_result"
    }
   ],
   "source": [
    "df.shape"
   ]
  },
  {
   "cell_type": "code",
   "execution_count": 15,
   "id": "82a74eaa",
   "metadata": {
    "execution": {
     "iopub.execute_input": "2023-06-21T10:22:34.936989Z",
     "iopub.status.busy": "2023-06-21T10:22:34.936593Z",
     "iopub.status.idle": "2023-06-21T10:22:34.963827Z",
     "shell.execute_reply": "2023-06-21T10:22:34.962597Z"
    },
    "papermill": {
     "duration": 0.055117,
     "end_time": "2023-06-21T10:22:34.966469",
     "exception": false,
     "start_time": "2023-06-21T10:22:34.911352",
     "status": "completed"
    },
    "tags": [],
    "ExecuteTime": {
     "end_time": "2024-03-30T16:45:26.756765300Z",
     "start_time": "2024-03-30T16:45:20.704202500Z"
    }
   },
   "outputs": [
    {
     "name": "stdout",
     "output_type": "stream",
     "text": [
      "<class 'pandas.core.frame.DataFrame'>\n",
      "RangeIndex: 1340 entries, 0 to 1339\n",
      "Data columns (total 11 columns):\n",
      " #   Column         Non-Null Count  Dtype  \n",
      "---  ------         --------------  -----  \n",
      " 0   index          1340 non-null   int64  \n",
      " 1   PatientID      1340 non-null   int64  \n",
      " 2   age            1335 non-null   float64\n",
      " 3   gender         1340 non-null   object \n",
      " 4   bmi            1340 non-null   float64\n",
      " 5   bloodpressure  1340 non-null   int64  \n",
      " 6   diabetic       1340 non-null   object \n",
      " 7   children       1340 non-null   int64  \n",
      " 8   smoker         1340 non-null   object \n",
      " 9   region         1337 non-null   object \n",
      " 10  claim          1340 non-null   float64\n",
      "dtypes: float64(3), int64(4), object(4)\n",
      "memory usage: 115.3+ KB\n"
     ]
    }
   ],
   "source": [
    "df.info()"
   ]
  },
  {
   "cell_type": "code",
   "execution_count": 16,
   "id": "cf4e7420",
   "metadata": {
    "execution": {
     "iopub.execute_input": "2023-06-21T10:22:35.016711Z",
     "iopub.status.busy": "2023-06-21T10:22:35.015972Z",
     "iopub.status.idle": "2023-06-21T10:22:35.054493Z",
     "shell.execute_reply": "2023-06-21T10:22:35.053367Z"
    },
    "papermill": {
     "duration": 0.066297,
     "end_time": "2023-06-21T10:22:35.057086",
     "exception": false,
     "start_time": "2023-06-21T10:22:34.990789",
     "status": "completed"
    },
    "tags": [],
    "ExecuteTime": {
     "end_time": "2024-03-30T16:45:27.058956600Z",
     "start_time": "2024-03-30T16:45:20.756515700Z"
    }
   },
   "outputs": [
    {
     "data": {
      "text/plain": "                count          mean           std      min       25%  \\\nindex          1340.0    669.500000    386.968991     0.00   334.750   \nPatientID      1340.0    670.500000    386.968991     1.00   335.750   \nage            1335.0     38.078652     11.102924    18.00    29.000   \nbmi            1340.0     30.668955      6.106735    16.00    26.275   \nbloodpressure  1340.0     94.157463     11.434712    80.00    86.000   \nchildren       1340.0      1.093284      1.205334     0.00     0.000   \nclaim          1340.0  13252.745642  12109.609288  1121.87  4719.685   \n\n                    50%        75%       max  \nindex           669.500   1004.250   1339.00  \nPatientID       670.500   1005.250   1340.00  \nage              38.000     47.000     60.00  \nbmi              30.400     34.700     53.10  \nbloodpressure    92.000     99.000    140.00  \nchildren          1.000      2.000      5.00  \nclaim          9369.615  16604.305  63770.43  ",
      "text/html": "<div>\n<style scoped>\n    .dataframe tbody tr th:only-of-type {\n        vertical-align: middle;\n    }\n\n    .dataframe tbody tr th {\n        vertical-align: top;\n    }\n\n    .dataframe thead th {\n        text-align: right;\n    }\n</style>\n<table border=\"1\" class=\"dataframe\">\n  <thead>\n    <tr style=\"text-align: right;\">\n      <th></th>\n      <th>count</th>\n      <th>mean</th>\n      <th>std</th>\n      <th>min</th>\n      <th>25%</th>\n      <th>50%</th>\n      <th>75%</th>\n      <th>max</th>\n    </tr>\n  </thead>\n  <tbody>\n    <tr>\n      <th>index</th>\n      <td>1340.0</td>\n      <td>669.500000</td>\n      <td>386.968991</td>\n      <td>0.00</td>\n      <td>334.750</td>\n      <td>669.500</td>\n      <td>1004.250</td>\n      <td>1339.00</td>\n    </tr>\n    <tr>\n      <th>PatientID</th>\n      <td>1340.0</td>\n      <td>670.500000</td>\n      <td>386.968991</td>\n      <td>1.00</td>\n      <td>335.750</td>\n      <td>670.500</td>\n      <td>1005.250</td>\n      <td>1340.00</td>\n    </tr>\n    <tr>\n      <th>age</th>\n      <td>1335.0</td>\n      <td>38.078652</td>\n      <td>11.102924</td>\n      <td>18.00</td>\n      <td>29.000</td>\n      <td>38.000</td>\n      <td>47.000</td>\n      <td>60.00</td>\n    </tr>\n    <tr>\n      <th>bmi</th>\n      <td>1340.0</td>\n      <td>30.668955</td>\n      <td>6.106735</td>\n      <td>16.00</td>\n      <td>26.275</td>\n      <td>30.400</td>\n      <td>34.700</td>\n      <td>53.10</td>\n    </tr>\n    <tr>\n      <th>bloodpressure</th>\n      <td>1340.0</td>\n      <td>94.157463</td>\n      <td>11.434712</td>\n      <td>80.00</td>\n      <td>86.000</td>\n      <td>92.000</td>\n      <td>99.000</td>\n      <td>140.00</td>\n    </tr>\n    <tr>\n      <th>children</th>\n      <td>1340.0</td>\n      <td>1.093284</td>\n      <td>1.205334</td>\n      <td>0.00</td>\n      <td>0.000</td>\n      <td>1.000</td>\n      <td>2.000</td>\n      <td>5.00</td>\n    </tr>\n    <tr>\n      <th>claim</th>\n      <td>1340.0</td>\n      <td>13252.745642</td>\n      <td>12109.609288</td>\n      <td>1121.87</td>\n      <td>4719.685</td>\n      <td>9369.615</td>\n      <td>16604.305</td>\n      <td>63770.43</td>\n    </tr>\n  </tbody>\n</table>\n</div>"
     },
     "execution_count": 16,
     "metadata": {},
     "output_type": "execute_result"
    }
   ],
   "source": [
    "df.describe().T"
   ]
  },
  {
   "cell_type": "code",
   "execution_count": 17,
   "id": "6291c09c",
   "metadata": {
    "execution": {
     "iopub.execute_input": "2023-06-21T10:22:35.107462Z",
     "iopub.status.busy": "2023-06-21T10:22:35.106526Z",
     "iopub.status.idle": "2023-06-21T10:22:35.113821Z",
     "shell.execute_reply": "2023-06-21T10:22:35.112715Z"
    },
    "papermill": {
     "duration": 0.03497,
     "end_time": "2023-06-21T10:22:35.116123",
     "exception": false,
     "start_time": "2023-06-21T10:22:35.081153",
     "status": "completed"
    },
    "tags": [],
    "ExecuteTime": {
     "end_time": "2024-03-30T16:45:27.060953300Z",
     "start_time": "2024-03-30T16:45:20.837932600Z"
    }
   },
   "outputs": [
    {
     "data": {
      "text/plain": "Index(['index', 'PatientID', 'age', 'gender', 'bmi', 'bloodpressure',\n       'diabetic', 'children', 'smoker', 'region', 'claim'],\n      dtype='object')"
     },
     "execution_count": 17,
     "metadata": {},
     "output_type": "execute_result"
    }
   ],
   "source": [
    "df.columns"
   ]
  },
  {
   "cell_type": "markdown",
   "id": "a4a2047a",
   "metadata": {
    "papermill": {
     "duration": 0.023467,
     "end_time": "2023-06-21T10:22:35.163604",
     "exception": false,
     "start_time": "2023-06-21T10:22:35.140137",
     "status": "completed"
    },
    "tags": []
   },
   "source": [
    "# Detection Of Missing Values :-"
   ]
  },
  {
   "cell_type": "code",
   "execution_count": 18,
   "id": "a0bb0403",
   "metadata": {
    "execution": {
     "iopub.execute_input": "2023-06-21T10:22:35.213556Z",
     "iopub.status.busy": "2023-06-21T10:22:35.213134Z",
     "iopub.status.idle": "2023-06-21T10:22:35.223675Z",
     "shell.execute_reply": "2023-06-21T10:22:35.222638Z"
    },
    "papermill": {
     "duration": 0.038065,
     "end_time": "2023-06-21T10:22:35.225755",
     "exception": false,
     "start_time": "2023-06-21T10:22:35.187690",
     "status": "completed"
    },
    "tags": [],
    "ExecuteTime": {
     "end_time": "2024-03-30T16:45:27.065940Z",
     "start_time": "2024-03-30T16:45:20.855574400Z"
    }
   },
   "outputs": [
    {
     "data": {
      "text/plain": "index            0\nPatientID        0\nage              5\ngender           0\nbmi              0\nbloodpressure    0\ndiabetic         0\nchildren         0\nsmoker           0\nregion           3\nclaim            0\ndtype: int64"
     },
     "execution_count": 18,
     "metadata": {},
     "output_type": "execute_result"
    }
   ],
   "source": [
    "df.isnull().sum()"
   ]
  },
  {
   "cell_type": "markdown",
   "id": "9617204a",
   "metadata": {
    "papermill": {
     "duration": 0.024072,
     "end_time": "2023-06-21T10:22:35.273917",
     "exception": false,
     "start_time": "2023-06-21T10:22:35.249845",
     "status": "completed"
    },
    "tags": []
   },
   "source": [
    "- There are Few Missing Values in Two Columns : **(Age and Region)**"
   ]
  },
  {
   "cell_type": "markdown",
   "id": "60a673e2",
   "metadata": {
    "papermill": {
     "duration": 0.024018,
     "end_time": "2023-06-21T10:22:35.324433",
     "exception": false,
     "start_time": "2023-06-21T10:22:35.300415",
     "status": "completed"
    },
    "tags": []
   },
   "source": [
    "# Filling The value Of \"Age\" Column AND Droped the Missing Value Of \"Region\" Columns"
   ]
  },
  {
   "cell_type": "code",
   "execution_count": 19,
   "id": "640c4b50",
   "metadata": {
    "execution": {
     "iopub.execute_input": "2023-06-21T10:22:35.374951Z",
     "iopub.status.busy": "2023-06-21T10:22:35.374429Z",
     "iopub.status.idle": "2023-06-21T10:22:35.385245Z",
     "shell.execute_reply": "2023-06-21T10:22:35.384145Z"
    },
    "papermill": {
     "duration": 0.039301,
     "end_time": "2023-06-21T10:22:35.387756",
     "exception": false,
     "start_time": "2023-06-21T10:22:35.348455",
     "status": "completed"
    },
    "tags": [],
    "ExecuteTime": {
     "end_time": "2024-03-30T16:45:27.075912400Z",
     "start_time": "2024-03-30T16:45:20.873840400Z"
    }
   },
   "outputs": [],
   "source": [
    "temp_df=df[df[\"gender\"]==\"male\"]\n",
    "df[\"age\"]=df[\"age\"].fillna(round(temp_df[\"age\"].mean()))"
   ]
  },
  {
   "cell_type": "markdown",
   "id": "3aeb7fc6",
   "metadata": {
    "papermill": {
     "duration": 0.024006,
     "end_time": "2023-06-21T10:22:35.435941",
     "exception": false,
     "start_time": "2023-06-21T10:22:35.411935",
     "status": "completed"
    },
    "tags": []
   },
   "source": [
    "- Filling Missing Values In Age Column With **Mean(Age)**."
   ]
  },
  {
   "cell_type": "code",
   "execution_count": 20,
   "id": "ad18d649",
   "metadata": {
    "execution": {
     "iopub.execute_input": "2023-06-21T10:22:35.486729Z",
     "iopub.status.busy": "2023-06-21T10:22:35.486356Z",
     "iopub.status.idle": "2023-06-21T10:22:35.495203Z",
     "shell.execute_reply": "2023-06-21T10:22:35.494426Z"
    },
    "papermill": {
     "duration": 0.036885,
     "end_time": "2023-06-21T10:22:35.497501",
     "exception": false,
     "start_time": "2023-06-21T10:22:35.460616",
     "status": "completed"
    },
    "tags": [],
    "ExecuteTime": {
     "end_time": "2024-03-30T16:45:27.076910700Z",
     "start_time": "2024-03-30T16:45:20.894238500Z"
    }
   },
   "outputs": [],
   "source": [
    "df['region']=df['region'].fillna(df['region'].mode()[0])"
   ]
  },
  {
   "cell_type": "markdown",
   "id": "48f140dc",
   "metadata": {
    "papermill": {
     "duration": 0.02416,
     "end_time": "2023-06-21T10:22:35.546525",
     "exception": false,
     "start_time": "2023-06-21T10:22:35.522365",
     "status": "completed"
    },
    "tags": []
   },
   "source": [
    "- Filling The Missing Value Of **region** Column with the Most frequent region."
   ]
  },
  {
   "cell_type": "code",
   "execution_count": 21,
   "id": "05f4c60c",
   "metadata": {
    "execution": {
     "iopub.execute_input": "2023-06-21T10:22:35.596695Z",
     "iopub.status.busy": "2023-06-21T10:22:35.596299Z",
     "iopub.status.idle": "2023-06-21T10:22:35.602133Z",
     "shell.execute_reply": "2023-06-21T10:22:35.601028Z"
    },
    "papermill": {
     "duration": 0.034,
     "end_time": "2023-06-21T10:22:35.604620",
     "exception": false,
     "start_time": "2023-06-21T10:22:35.570620",
     "status": "completed"
    },
    "tags": [],
    "ExecuteTime": {
     "end_time": "2024-03-30T16:45:27.105833500Z",
     "start_time": "2024-03-30T16:45:20.910513800Z"
    }
   },
   "outputs": [],
   "source": [
    "df[\"age\"]=df[\"age\"].astype(int)"
   ]
  },
  {
   "cell_type": "markdown",
   "id": "d4ed8192",
   "metadata": {
    "papermill": {
     "duration": 0.024094,
     "end_time": "2023-06-21T10:22:35.653460",
     "exception": false,
     "start_time": "2023-06-21T10:22:35.629366",
     "status": "completed"
    },
    "tags": []
   },
   "source": [
    "- Correcting **Age** Datatype From **Float** to **Int**."
   ]
  },
  {
   "cell_type": "code",
   "execution_count": 22,
   "id": "7fa9c349",
   "metadata": {
    "execution": {
     "iopub.execute_input": "2023-06-21T10:22:35.703781Z",
     "iopub.status.busy": "2023-06-21T10:22:35.703186Z",
     "iopub.status.idle": "2023-06-21T10:22:35.708552Z",
     "shell.execute_reply": "2023-06-21T10:22:35.707539Z"
    },
    "papermill": {
     "duration": 0.03328,
     "end_time": "2023-06-21T10:22:35.710953",
     "exception": false,
     "start_time": "2023-06-21T10:22:35.677673",
     "status": "completed"
    },
    "tags": [],
    "ExecuteTime": {
     "end_time": "2024-03-30T16:45:27.154700500Z",
     "start_time": "2024-03-30T16:45:20.921000700Z"
    }
   },
   "outputs": [],
   "source": [
    "df.set_index('index',inplace = True)"
   ]
  },
  {
   "cell_type": "code",
   "execution_count": 23,
   "id": "bd5bb29c",
   "metadata": {
    "execution": {
     "iopub.execute_input": "2023-06-21T10:22:35.761493Z",
     "iopub.status.busy": "2023-06-21T10:22:35.761087Z",
     "iopub.status.idle": "2023-06-21T10:22:35.767680Z",
     "shell.execute_reply": "2023-06-21T10:22:35.766645Z"
    },
    "papermill": {
     "duration": 0.034752,
     "end_time": "2023-06-21T10:22:35.769962",
     "exception": false,
     "start_time": "2023-06-21T10:22:35.735210",
     "status": "completed"
    },
    "tags": [],
    "ExecuteTime": {
     "end_time": "2024-03-30T16:45:27.155697900Z",
     "start_time": "2024-03-30T16:45:20.942074600Z"
    }
   },
   "outputs": [
    {
     "data": {
      "text/plain": "(1340, 10)"
     },
     "execution_count": 23,
     "metadata": {},
     "output_type": "execute_result"
    }
   ],
   "source": [
    "df.shape"
   ]
  },
  {
   "cell_type": "markdown",
   "id": "3b5d7940",
   "metadata": {
    "papermill": {
     "duration": 0.02409,
     "end_time": "2023-06-21T10:22:35.818152",
     "exception": false,
     "start_time": "2023-06-21T10:22:35.794062",
     "status": "completed"
    },
    "tags": []
   },
   "source": [
    "- There are **1337 Rows** And **10 Columns** Present In Whole Datasets."
   ]
  },
  {
   "cell_type": "markdown",
   "id": "5ef546e7",
   "metadata": {
    "papermill": {
     "duration": 0.023822,
     "end_time": "2023-06-21T10:22:35.866319",
     "exception": false,
     "start_time": "2023-06-21T10:22:35.842497",
     "status": "completed"
    },
    "tags": []
   },
   "source": [
    "# Checking Duplicated Data"
   ]
  },
  {
   "cell_type": "code",
   "execution_count": 24,
   "id": "87c89061",
   "metadata": {
    "execution": {
     "iopub.execute_input": "2023-06-21T10:22:35.917223Z",
     "iopub.status.busy": "2023-06-21T10:22:35.916016Z",
     "iopub.status.idle": "2023-06-21T10:22:35.929248Z",
     "shell.execute_reply": "2023-06-21T10:22:35.928205Z"
    },
    "papermill": {
     "duration": 0.041137,
     "end_time": "2023-06-21T10:22:35.931554",
     "exception": false,
     "start_time": "2023-06-21T10:22:35.890417",
     "status": "completed"
    },
    "tags": [],
    "ExecuteTime": {
     "end_time": "2024-03-30T16:45:27.283357Z",
     "start_time": "2024-03-30T16:45:20.955929300Z"
    }
   },
   "outputs": [
    {
     "data": {
      "text/plain": "0"
     },
     "execution_count": 24,
     "metadata": {},
     "output_type": "execute_result"
    }
   ],
   "source": [
    "df.duplicated().sum()"
   ]
  },
  {
   "cell_type": "markdown",
   "id": "2f003540",
   "metadata": {
    "papermill": {
     "duration": 0.024262,
     "end_time": "2023-06-21T10:22:35.980373",
     "exception": false,
     "start_time": "2023-06-21T10:22:35.956111",
     "status": "completed"
    },
    "tags": []
   },
   "source": [
    "- There is **No Duplicate's** present in Dataset."
   ]
  },
  {
   "cell_type": "markdown",
   "id": "38ca83d5",
   "metadata": {
    "papermill": {
     "duration": 0.024123,
     "end_time": "2023-06-21T10:22:36.028988",
     "exception": false,
     "start_time": "2023-06-21T10:22:36.004865",
     "status": "completed"
    },
    "tags": []
   },
   "source": [
    "# **Univarate Analysis**"
   ]
  },
  {
   "cell_type": "markdown",
   "id": "b98b8ede",
   "metadata": {
    "papermill": {
     "duration": 0.024181,
     "end_time": "2023-06-21T10:22:36.077735",
     "exception": false,
     "start_time": "2023-06-21T10:22:36.053554",
     "status": "completed"
    },
    "tags": []
   },
   "source": [
    "# Gender-Wise And Age Distribution of Patients :-"
   ]
  },
  {
   "cell_type": "code",
   "execution_count": 25,
   "id": "39872372",
   "metadata": {
    "execution": {
     "iopub.execute_input": "2023-06-21T10:22:36.128579Z",
     "iopub.status.busy": "2023-06-21T10:22:36.128170Z",
     "iopub.status.idle": "2023-06-21T10:22:36.142194Z",
     "shell.execute_reply": "2023-06-21T10:22:36.141018Z"
    },
    "papermill": {
     "duration": 0.042483,
     "end_time": "2023-06-21T10:22:36.144666",
     "exception": false,
     "start_time": "2023-06-21T10:22:36.102183",
     "status": "completed"
    },
    "tags": [],
    "ExecuteTime": {
     "end_time": "2024-03-30T16:45:27.318263Z",
     "start_time": "2024-03-30T16:45:20.995010500Z"
    }
   },
   "outputs": [
    {
     "data": {
      "text/plain": "   gender  count\n0    male    678\n1  female    662",
      "text/html": "<div>\n<style scoped>\n    .dataframe tbody tr th:only-of-type {\n        vertical-align: middle;\n    }\n\n    .dataframe tbody tr th {\n        vertical-align: top;\n    }\n\n    .dataframe thead th {\n        text-align: right;\n    }\n</style>\n<table border=\"1\" class=\"dataframe\">\n  <thead>\n    <tr style=\"text-align: right;\">\n      <th></th>\n      <th>gender</th>\n      <th>count</th>\n    </tr>\n  </thead>\n  <tbody>\n    <tr>\n      <th>0</th>\n      <td>male</td>\n      <td>678</td>\n    </tr>\n    <tr>\n      <th>1</th>\n      <td>female</td>\n      <td>662</td>\n    </tr>\n  </tbody>\n</table>\n</div>"
     },
     "execution_count": 25,
     "metadata": {},
     "output_type": "execute_result"
    }
   ],
   "source": [
    "sns.set_palette('inferno')\n",
    "gender = df[\"gender\"].value_counts().reset_index()\n",
    "gender"
   ]
  },
  {
   "cell_type": "code",
   "execution_count": 33,
   "id": "219c41f6",
   "metadata": {
    "execution": {
     "iopub.execute_input": "2023-06-21T10:22:36.196130Z",
     "iopub.status.busy": "2023-06-21T10:22:36.195755Z",
     "iopub.status.idle": "2023-06-21T10:22:36.847235Z",
     "shell.execute_reply": "2023-06-21T10:22:36.846091Z"
    },
    "papermill": {
     "duration": 0.679932,
     "end_time": "2023-06-21T10:22:36.849765",
     "exception": false,
     "start_time": "2023-06-21T10:22:36.169833",
     "status": "completed"
    },
    "tags": [],
    "ExecuteTime": {
     "end_time": "2024-03-30T16:48:25.508273700Z",
     "start_time": "2024-03-30T16:48:23.737946100Z"
    }
   },
   "outputs": [
    {
     "ename": "KeyError",
     "evalue": "'index'",
     "output_type": "error",
     "traceback": [
      "\u001B[1;31m---------------------------------------------------------------------------\u001B[0m",
      "\u001B[1;31mKeyError\u001B[0m                                  Traceback (most recent call last)",
      "File \u001B[1;32m~\\PycharmProject\\pythonProject11\\venv\\Lib\\site-packages\\pandas\\core\\indexes\\base.py:3805\u001B[0m, in \u001B[0;36mIndex.get_loc\u001B[1;34m(self, key)\u001B[0m\n\u001B[0;32m   3804\u001B[0m \u001B[38;5;28;01mtry\u001B[39;00m:\n\u001B[1;32m-> 3805\u001B[0m     \u001B[38;5;28;01mreturn\u001B[39;00m \u001B[38;5;28;43mself\u001B[39;49m\u001B[38;5;241;43m.\u001B[39;49m\u001B[43m_engine\u001B[49m\u001B[38;5;241;43m.\u001B[39;49m\u001B[43mget_loc\u001B[49m\u001B[43m(\u001B[49m\u001B[43mcasted_key\u001B[49m\u001B[43m)\u001B[49m\n\u001B[0;32m   3806\u001B[0m \u001B[38;5;28;01mexcept\u001B[39;00m \u001B[38;5;167;01mKeyError\u001B[39;00m \u001B[38;5;28;01mas\u001B[39;00m err:\n",
      "File \u001B[1;32mindex.pyx:167\u001B[0m, in \u001B[0;36mpandas._libs.index.IndexEngine.get_loc\u001B[1;34m()\u001B[0m\n",
      "File \u001B[1;32mindex.pyx:196\u001B[0m, in \u001B[0;36mpandas._libs.index.IndexEngine.get_loc\u001B[1;34m()\u001B[0m\n",
      "File \u001B[1;32mpandas\\\\_libs\\\\hashtable_class_helper.pxi:7081\u001B[0m, in \u001B[0;36mpandas._libs.hashtable.PyObjectHashTable.get_item\u001B[1;34m()\u001B[0m\n",
      "File \u001B[1;32mpandas\\\\_libs\\\\hashtable_class_helper.pxi:7089\u001B[0m, in \u001B[0;36mpandas._libs.hashtable.PyObjectHashTable.get_item\u001B[1;34m()\u001B[0m\n",
      "\u001B[1;31mKeyError\u001B[0m: 'index'",
      "\nThe above exception was the direct cause of the following exception:\n",
      "\u001B[1;31mKeyError\u001B[0m                                  Traceback (most recent call last)",
      "Cell \u001B[1;32mIn[33], line 6\u001B[0m\n\u001B[0;32m      4\u001B[0m plt\u001B[38;5;241m.\u001B[39mtitle(\u001B[38;5;124m\"\u001B[39m\u001B[38;5;124mDistribution Of Age\u001B[39m\u001B[38;5;124m\"\u001B[39m)\n\u001B[0;32m      5\u001B[0m plt\u001B[38;5;241m.\u001B[39msubplot(\u001B[38;5;241m1\u001B[39m,\u001B[38;5;241m2\u001B[39m,\u001B[38;5;241m2\u001B[39m)\n\u001B[1;32m----> 6\u001B[0m sns\u001B[38;5;241m.\u001B[39mbarplot(x\u001B[38;5;241m=\u001B[39m\u001B[43mdf\u001B[49m\u001B[43m[\u001B[49m\u001B[38;5;124;43m'\u001B[39;49m\u001B[38;5;124;43mindex\u001B[39;49m\u001B[38;5;124;43m'\u001B[39;49m\u001B[43m]\u001B[49m,y\u001B[38;5;241m=\u001B[39mgender[\u001B[38;5;124m'\u001B[39m\u001B[38;5;124mgender\u001B[39m\u001B[38;5;124m'\u001B[39m],data\u001B[38;5;241m=\u001B[39mgender,edgecolor\u001B[38;5;241m=\u001B[39m\u001B[38;5;124m'\u001B[39m\u001B[38;5;124mblack\u001B[39m\u001B[38;5;124m'\u001B[39m)\n\u001B[0;32m      7\u001B[0m plt\u001B[38;5;241m.\u001B[39mtitle(\u001B[38;5;124m\"\u001B[39m\u001B[38;5;124mGender\u001B[39m\u001B[38;5;124m\"\u001B[39m)\n\u001B[0;32m      8\u001B[0m plt\u001B[38;5;241m.\u001B[39mshow()\n",
      "File \u001B[1;32m~\\PycharmProject\\pythonProject11\\venv\\Lib\\site-packages\\pandas\\core\\frame.py:4090\u001B[0m, in \u001B[0;36mDataFrame.__getitem__\u001B[1;34m(self, key)\u001B[0m\n\u001B[0;32m   4088\u001B[0m \u001B[38;5;28;01mif\u001B[39;00m \u001B[38;5;28mself\u001B[39m\u001B[38;5;241m.\u001B[39mcolumns\u001B[38;5;241m.\u001B[39mnlevels \u001B[38;5;241m>\u001B[39m \u001B[38;5;241m1\u001B[39m:\n\u001B[0;32m   4089\u001B[0m     \u001B[38;5;28;01mreturn\u001B[39;00m \u001B[38;5;28mself\u001B[39m\u001B[38;5;241m.\u001B[39m_getitem_multilevel(key)\n\u001B[1;32m-> 4090\u001B[0m indexer \u001B[38;5;241m=\u001B[39m \u001B[38;5;28;43mself\u001B[39;49m\u001B[38;5;241;43m.\u001B[39;49m\u001B[43mcolumns\u001B[49m\u001B[38;5;241;43m.\u001B[39;49m\u001B[43mget_loc\u001B[49m\u001B[43m(\u001B[49m\u001B[43mkey\u001B[49m\u001B[43m)\u001B[49m\n\u001B[0;32m   4091\u001B[0m \u001B[38;5;28;01mif\u001B[39;00m is_integer(indexer):\n\u001B[0;32m   4092\u001B[0m     indexer \u001B[38;5;241m=\u001B[39m [indexer]\n",
      "File \u001B[1;32m~\\PycharmProject\\pythonProject11\\venv\\Lib\\site-packages\\pandas\\core\\indexes\\base.py:3812\u001B[0m, in \u001B[0;36mIndex.get_loc\u001B[1;34m(self, key)\u001B[0m\n\u001B[0;32m   3807\u001B[0m     \u001B[38;5;28;01mif\u001B[39;00m \u001B[38;5;28misinstance\u001B[39m(casted_key, \u001B[38;5;28mslice\u001B[39m) \u001B[38;5;129;01mor\u001B[39;00m (\n\u001B[0;32m   3808\u001B[0m         \u001B[38;5;28misinstance\u001B[39m(casted_key, abc\u001B[38;5;241m.\u001B[39mIterable)\n\u001B[0;32m   3809\u001B[0m         \u001B[38;5;129;01mand\u001B[39;00m \u001B[38;5;28many\u001B[39m(\u001B[38;5;28misinstance\u001B[39m(x, \u001B[38;5;28mslice\u001B[39m) \u001B[38;5;28;01mfor\u001B[39;00m x \u001B[38;5;129;01min\u001B[39;00m casted_key)\n\u001B[0;32m   3810\u001B[0m     ):\n\u001B[0;32m   3811\u001B[0m         \u001B[38;5;28;01mraise\u001B[39;00m InvalidIndexError(key)\n\u001B[1;32m-> 3812\u001B[0m     \u001B[38;5;28;01mraise\u001B[39;00m \u001B[38;5;167;01mKeyError\u001B[39;00m(key) \u001B[38;5;28;01mfrom\u001B[39;00m \u001B[38;5;21;01merr\u001B[39;00m\n\u001B[0;32m   3813\u001B[0m \u001B[38;5;28;01mexcept\u001B[39;00m \u001B[38;5;167;01mTypeError\u001B[39;00m:\n\u001B[0;32m   3814\u001B[0m     \u001B[38;5;66;03m# If we have a listlike key, _check_indexing_error will raise\u001B[39;00m\n\u001B[0;32m   3815\u001B[0m     \u001B[38;5;66;03m#  InvalidIndexError. Otherwise we fall through and re-raise\u001B[39;00m\n\u001B[0;32m   3816\u001B[0m     \u001B[38;5;66;03m#  the TypeError.\u001B[39;00m\n\u001B[0;32m   3817\u001B[0m     \u001B[38;5;28mself\u001B[39m\u001B[38;5;241m.\u001B[39m_check_indexing_error(key)\n",
      "\u001B[1;31mKeyError\u001B[0m: 'index'"
     ]
    },
    {
     "data": {
      "text/plain": "<Figure size 1500x600 with 2 Axes>",
      "image/png": "[encoded data removed]"
     },
     "metadata": {},
     "output_type": "display_data"
    }
   ],
   "source": [
    "plt.figure(figsize=(15,6))\n",
    "plt.subplot(1,2,1)\n",
    "sns.histplot(df[\"age\"],kde=True)\n",
    "plt.title(\"Distribution Of Age\")\n",
    "plt.subplot(1,2,2)\n",
    "sns.barplot(x=df['index'],y=gender['gender'],data=gender,edgecolor='black')\n",
    "plt.title(\"Gender\")\n",
    "plt.show()"
   ]
  },
  {
   "cell_type": "markdown",
   "id": "a8e5bc91",
   "metadata": {
    "papermill": {
     "duration": 0.025285,
     "end_time": "2023-06-21T10:22:36.900904",
     "exception": false,
     "start_time": "2023-06-21T10:22:36.875619",
     "status": "completed"
    },
    "tags": []
   },
   "source": [
    "- **CHART-1:** Distribution Of Age Indicate's That **Most Insurance Claimed** By Those Patients Whose Age Lie Between **30 to 50 years.**\n",
    "- **CHART-2:** Shows There Are **Almost Equal Distribution** of **Male** & **Female** in Terms Of Insurance Claims (**675** & **662** Respectively)."
   ]
  },
  {
   "cell_type": "markdown",
   "id": "3a40e9e8",
   "metadata": {
    "papermill": {
     "duration": 0.025223,
     "end_time": "2023-06-21T10:22:36.951880",
     "exception": false,
     "start_time": "2023-06-21T10:22:36.926657",
     "status": "completed"
    },
    "tags": []
   },
   "source": [
    "# Distribution Of BMI And Distribution Of Blood Pressure :-"
   ]
  },
  {
   "cell_type": "code",
   "execution_count": 28,
   "id": "6d255e9e",
   "metadata": {
    "execution": {
     "iopub.execute_input": "2023-06-21T10:22:37.005454Z",
     "iopub.status.busy": "2023-06-21T10:22:37.005045Z",
     "iopub.status.idle": "2023-06-21T10:22:37.785038Z",
     "shell.execute_reply": "2023-06-21T10:22:37.783929Z"
    },
    "papermill": {
     "duration": 0.809639,
     "end_time": "2023-06-21T10:22:37.787600",
     "exception": false,
     "start_time": "2023-06-21T10:22:36.977961",
     "status": "completed"
    },
    "tags": [],
    "ExecuteTime": {
     "end_time": "2024-03-30T16:46:27.639970700Z",
     "start_time": "2024-03-30T16:46:26.387358600Z"
    }
   },
   "outputs": [
    {
     "name": "stderr",
     "output_type": "stream",
     "text": [
      "C:\\Users\\Omer Habib\\AppData\\Local\\Temp\\ipykernel_21516\\1389624257.py:3: UserWarning: \n",
      "\n",
      "`distplot` is a deprecated function and will be removed in seaborn v0.14.0.\n",
      "\n",
      "Please adapt your code to use either `displot` (a figure-level function with\n",
      "similar flexibility) or `histplot` (an axes-level function for histograms).\n",
      "\n",
      "For a guide to updating your code to use the new functions, please see\n",
      "https://gist.github.com/mwaskom/de44147ed2974457ad6372750bbe5751\n",
      "\n",
      "  sns.distplot(df[\"bmi\"],color=\"blue\")\n"
     ]
    },
    {
     "data": {
      "text/plain": "<Figure size 1500x600 with 2 Axes>",
      "image/png": "[encoded data removed]"
     },
     "metadata": {},
     "output_type": "display_data"
    }
   ],
   "source": [
    "plt.figure(figsize=(15,6))\n",
    "plt.subplot(1,2,1)\n",
    "sns.distplot(df[\"bmi\"],color=\"blue\")\n",
    "plt.title(\"Distribution Of BMI\")\n",
    "plt.subplot(1,2,2)\n",
    "sns.histplot(df[\"bloodpressure\"],kde=True)\n",
    "plt.title(\"Distribution Of Blood Pressure\")\n",
    "plt.show()"
   ]
  },
  {
   "cell_type": "markdown",
   "id": "241bd525",
   "metadata": {
    "papermill": {
     "duration": 0.026372,
     "end_time": "2023-06-21T10:22:37.841968",
     "exception": false,
     "start_time": "2023-06-21T10:22:37.815596",
     "status": "completed"
    },
    "tags": []
   },
   "source": [
    "- **CHART-1:** Indicate's The **Normal Distribution of BMI** Of Patient's Data\n",
    "- **CHART-2:** Indicate's That Majority Of Patients Has **Normal Blood Pressure** Between **80 to 110.**"
   ]
  },
  {
   "cell_type": "markdown",
   "id": "c00655d5",
   "metadata": {
    "papermill": {
     "duration": 0.026309,
     "end_time": "2023-06-21T10:22:37.895261",
     "exception": false,
     "start_time": "2023-06-21T10:22:37.868952",
     "status": "completed"
    },
    "tags": []
   },
   "source": [
    "# Frequency Of Diabetic Patient  :-"
   ]
  },
  {
   "cell_type": "code",
   "execution_count": 29,
   "id": "c5eff3b4",
   "metadata": {
    "execution": {
     "iopub.execute_input": "2023-06-21T10:22:37.953147Z",
     "iopub.status.busy": "2023-06-21T10:22:37.952780Z",
     "iopub.status.idle": "2023-06-21T10:22:37.964388Z",
     "shell.execute_reply": "2023-06-21T10:22:37.963139Z"
    },
    "papermill": {
     "duration": 0.04217,
     "end_time": "2023-06-21T10:22:37.966748",
     "exception": false,
     "start_time": "2023-06-21T10:22:37.924578",
     "status": "completed"
    },
    "tags": [],
    "ExecuteTime": {
     "end_time": "2024-03-30T16:46:41.574355700Z",
     "start_time": "2024-03-30T16:46:41.527661100Z"
    }
   },
   "outputs": [
    {
     "data": {
      "text/plain": "  diabetic  count\n0       No    698\n1      Yes    642",
      "text/html": "<div>\n<style scoped>\n    .dataframe tbody tr th:only-of-type {\n        vertical-align: middle;\n    }\n\n    .dataframe tbody tr th {\n        vertical-align: top;\n    }\n\n    .dataframe thead th {\n        text-align: right;\n    }\n</style>\n<table border=\"1\" class=\"dataframe\">\n  <thead>\n    <tr style=\"text-align: right;\">\n      <th></th>\n      <th>diabetic</th>\n      <th>count</th>\n    </tr>\n  </thead>\n  <tbody>\n    <tr>\n      <th>0</th>\n      <td>No</td>\n      <td>698</td>\n    </tr>\n    <tr>\n      <th>1</th>\n      <td>Yes</td>\n      <td>642</td>\n    </tr>\n  </tbody>\n</table>\n</div>"
     },
     "execution_count": 29,
     "metadata": {},
     "output_type": "execute_result"
    }
   ],
   "source": [
    "dia=df[\"diabetic\"].value_counts().reset_index()\n",
    "dia"
   ]
  },
  {
   "cell_type": "markdown",
   "id": "77d7c625",
   "metadata": {},
   "source": [
    "# Frequency No. Of Children "
   ]
  },
  {
   "cell_type": "code",
   "execution_count": 30,
   "id": "1a448329",
   "metadata": {
    "execution": {
     "iopub.execute_input": "2023-06-21T10:22:38.022330Z",
     "iopub.status.busy": "2023-06-21T10:22:38.021900Z",
     "iopub.status.idle": "2023-06-21T10:22:38.031134Z",
     "shell.execute_reply": "2023-06-21T10:22:38.029848Z"
    },
    "papermill": {
     "duration": 0.040142,
     "end_time": "2023-06-21T10:22:38.033662",
     "exception": false,
     "start_time": "2023-06-21T10:22:37.993520",
     "status": "completed"
    },
    "tags": [],
    "ExecuteTime": {
     "end_time": "2024-03-30T16:46:42.892701100Z",
     "start_time": "2024-03-30T16:46:42.680615Z"
    }
   },
   "outputs": [
    {
     "data": {
      "text/plain": "children\n0    576\n1    324\n2    240\n3    157\n4     25\n5     18\nName: count, dtype: int64"
     },
     "execution_count": 30,
     "metadata": {},
     "output_type": "execute_result"
    }
   ],
   "source": [
    "children = df['children'].value_counts()\n",
    "children"
   ]
  },
  {
   "cell_type": "code",
   "execution_count": 31,
   "id": "a45b7450",
   "metadata": {
    "execution": {
     "iopub.execute_input": "2023-06-21T10:22:38.090126Z",
     "iopub.status.busy": "2023-06-21T10:22:38.089754Z",
     "iopub.status.idle": "2023-06-21T10:22:38.564118Z",
     "shell.execute_reply": "2023-06-21T10:22:38.563003Z"
    },
    "papermill": {
     "duration": 0.505744,
     "end_time": "2023-06-21T10:22:38.566719",
     "exception": false,
     "start_time": "2023-06-21T10:22:38.060975",
     "status": "completed"
    },
    "tags": [],
    "ExecuteTime": {
     "end_time": "2024-03-30T16:46:44.704061900Z",
     "start_time": "2024-03-30T16:46:43.523729700Z"
    }
   },
   "outputs": [
    {
     "ename": "ValueError",
     "evalue": "Value of 'x' is not the name of a column in 'data_frame'. Expected one of ['diabetic', 'count'] but received: index\n To use the index, pass it in directly as `df.index`.",
     "output_type": "error",
     "traceback": [
      "\u001B[1;31m---------------------------------------------------------------------------\u001B[0m",
      "\u001B[1;31mValueError\u001B[0m                                Traceback (most recent call last)",
      "Cell \u001B[1;32mIn[31], line 1\u001B[0m\n\u001B[1;32m----> 1\u001B[0m fig \u001B[38;5;241m=\u001B[39m \u001B[43mpx\u001B[49m\u001B[38;5;241;43m.\u001B[39;49m\u001B[43mbar\u001B[49m\u001B[43m(\u001B[49m\u001B[43mdia\u001B[49m\u001B[43m,\u001B[49m\u001B[43m \u001B[49m\u001B[43mx\u001B[49m\u001B[38;5;241;43m=\u001B[39;49m\u001B[38;5;124;43m'\u001B[39;49m\u001B[38;5;124;43mindex\u001B[39;49m\u001B[38;5;124;43m'\u001B[39;49m\u001B[43m,\u001B[49m\u001B[43m \u001B[49m\u001B[43my\u001B[49m\u001B[38;5;241;43m=\u001B[39;49m\u001B[38;5;124;43m'\u001B[39;49m\u001B[38;5;124;43mdiabetic\u001B[39;49m\u001B[38;5;124;43m'\u001B[39;49m\u001B[43m,\u001B[49m\u001B[43m \u001B[49m\u001B[43mtitle\u001B[49m\u001B[38;5;241;43m=\u001B[39;49m\u001B[38;5;124;43m'\u001B[39;49m\u001B[38;5;124;43mFrequency of Diabetic And Non-Diabetic Person\u001B[39;49m\u001B[38;5;124;43m'\u001B[39;49m\u001B[43m)\u001B[49m\n\u001B[0;32m      2\u001B[0m fig\u001B[38;5;241m.\u001B[39mshow()\n\u001B[0;32m      4\u001B[0m fig \u001B[38;5;241m=\u001B[39m px\u001B[38;5;241m.\u001B[39mbar(x\u001B[38;5;241m=\u001B[39mchildren\u001B[38;5;241m.\u001B[39mindex, y\u001B[38;5;241m=\u001B[39mchildren\u001B[38;5;241m.\u001B[39mvalues, title\u001B[38;5;241m=\u001B[39m\u001B[38;5;124m'\u001B[39m\u001B[38;5;124mFrequency Of Person With Their No. Childs\u001B[39m\u001B[38;5;124m'\u001B[39m)\n",
      "File \u001B[1;32m~\\PycharmProject\\pythonProject11\\venv\\Lib\\site-packages\\plotly\\express\\_chart_types.py:373\u001B[0m, in \u001B[0;36mbar\u001B[1;34m(data_frame, x, y, color, pattern_shape, facet_row, facet_col, facet_col_wrap, facet_row_spacing, facet_col_spacing, hover_name, hover_data, custom_data, text, base, error_x, error_x_minus, error_y, error_y_minus, animation_frame, animation_group, category_orders, labels, color_discrete_sequence, color_discrete_map, color_continuous_scale, pattern_shape_sequence, pattern_shape_map, range_color, color_continuous_midpoint, opacity, orientation, barmode, log_x, log_y, range_x, range_y, text_auto, title, template, width, height)\u001B[0m\n\u001B[0;32m    325\u001B[0m \u001B[38;5;28;01mdef\u001B[39;00m \u001B[38;5;21mbar\u001B[39m(\n\u001B[0;32m    326\u001B[0m     data_frame\u001B[38;5;241m=\u001B[39m\u001B[38;5;28;01mNone\u001B[39;00m,\n\u001B[0;32m    327\u001B[0m     x\u001B[38;5;241m=\u001B[39m\u001B[38;5;28;01mNone\u001B[39;00m,\n\u001B[1;32m   (...)\u001B[0m\n\u001B[0;32m    367\u001B[0m     height\u001B[38;5;241m=\u001B[39m\u001B[38;5;28;01mNone\u001B[39;00m,\n\u001B[0;32m    368\u001B[0m ) \u001B[38;5;241m-\u001B[39m\u001B[38;5;241m>\u001B[39m go\u001B[38;5;241m.\u001B[39mFigure:\n\u001B[0;32m    369\u001B[0m \u001B[38;5;250m    \u001B[39m\u001B[38;5;124;03m\"\"\"\u001B[39;00m\n\u001B[0;32m    370\u001B[0m \u001B[38;5;124;03m    In a bar plot, each row of `data_frame` is represented as a rectangular\u001B[39;00m\n\u001B[0;32m    371\u001B[0m \u001B[38;5;124;03m    mark.\u001B[39;00m\n\u001B[0;32m    372\u001B[0m \u001B[38;5;124;03m    \"\"\"\u001B[39;00m\n\u001B[1;32m--> 373\u001B[0m     \u001B[38;5;28;01mreturn\u001B[39;00m \u001B[43mmake_figure\u001B[49m\u001B[43m(\u001B[49m\n\u001B[0;32m    374\u001B[0m \u001B[43m        \u001B[49m\u001B[43margs\u001B[49m\u001B[38;5;241;43m=\u001B[39;49m\u001B[38;5;28;43mlocals\u001B[39;49m\u001B[43m(\u001B[49m\u001B[43m)\u001B[49m\u001B[43m,\u001B[49m\n\u001B[0;32m    375\u001B[0m \u001B[43m        \u001B[49m\u001B[43mconstructor\u001B[49m\u001B[38;5;241;43m=\u001B[39;49m\u001B[43mgo\u001B[49m\u001B[38;5;241;43m.\u001B[39;49m\u001B[43mBar\u001B[49m\u001B[43m,\u001B[49m\n\u001B[0;32m    376\u001B[0m \u001B[43m        \u001B[49m\u001B[43mtrace_patch\u001B[49m\u001B[38;5;241;43m=\u001B[39;49m\u001B[38;5;28;43mdict\u001B[39;49m\u001B[43m(\u001B[49m\u001B[43mtextposition\u001B[49m\u001B[38;5;241;43m=\u001B[39;49m\u001B[38;5;124;43m\"\u001B[39;49m\u001B[38;5;124;43mauto\u001B[39;49m\u001B[38;5;124;43m\"\u001B[39;49m\u001B[43m)\u001B[49m\u001B[43m,\u001B[49m\n\u001B[0;32m    377\u001B[0m \u001B[43m        \u001B[49m\u001B[43mlayout_patch\u001B[49m\u001B[38;5;241;43m=\u001B[39;49m\u001B[38;5;28;43mdict\u001B[39;49m\u001B[43m(\u001B[49m\u001B[43mbarmode\u001B[49m\u001B[38;5;241;43m=\u001B[39;49m\u001B[43mbarmode\u001B[49m\u001B[43m)\u001B[49m\u001B[43m,\u001B[49m\n\u001B[0;32m    378\u001B[0m \u001B[43m    \u001B[49m\u001B[43m)\u001B[49m\n",
      "File \u001B[1;32m~\\PycharmProject\\pythonProject11\\venv\\Lib\\site-packages\\plotly\\express\\_core.py:2090\u001B[0m, in \u001B[0;36mmake_figure\u001B[1;34m(args, constructor, trace_patch, layout_patch)\u001B[0m\n\u001B[0;32m   2087\u001B[0m layout_patch \u001B[38;5;241m=\u001B[39m layout_patch \u001B[38;5;129;01mor\u001B[39;00m {}\n\u001B[0;32m   2088\u001B[0m apply_default_cascade(args)\n\u001B[1;32m-> 2090\u001B[0m args \u001B[38;5;241m=\u001B[39m \u001B[43mbuild_dataframe\u001B[49m\u001B[43m(\u001B[49m\u001B[43margs\u001B[49m\u001B[43m,\u001B[49m\u001B[43m \u001B[49m\u001B[43mconstructor\u001B[49m\u001B[43m)\u001B[49m\n\u001B[0;32m   2091\u001B[0m \u001B[38;5;28;01mif\u001B[39;00m constructor \u001B[38;5;129;01min\u001B[39;00m [go\u001B[38;5;241m.\u001B[39mTreemap, go\u001B[38;5;241m.\u001B[39mSunburst, go\u001B[38;5;241m.\u001B[39mIcicle] \u001B[38;5;129;01mand\u001B[39;00m args[\u001B[38;5;124m\"\u001B[39m\u001B[38;5;124mpath\u001B[39m\u001B[38;5;124m\"\u001B[39m] \u001B[38;5;129;01mis\u001B[39;00m \u001B[38;5;129;01mnot\u001B[39;00m \u001B[38;5;28;01mNone\u001B[39;00m:\n\u001B[0;32m   2092\u001B[0m     args \u001B[38;5;241m=\u001B[39m process_dataframe_hierarchy(args)\n",
      "File \u001B[1;32m~\\PycharmProject\\pythonProject11\\venv\\Lib\\site-packages\\plotly\\express\\_core.py:1492\u001B[0m, in \u001B[0;36mbuild_dataframe\u001B[1;34m(args, constructor)\u001B[0m\n\u001B[0;32m   1489\u001B[0m     args[\u001B[38;5;124m\"\u001B[39m\u001B[38;5;124mcolor\u001B[39m\u001B[38;5;124m\"\u001B[39m] \u001B[38;5;241m=\u001B[39m \u001B[38;5;28;01mNone\u001B[39;00m\n\u001B[0;32m   1490\u001B[0m \u001B[38;5;66;03m# now that things have been prepped, we do the systematic rewriting of `args`\u001B[39;00m\n\u001B[1;32m-> 1492\u001B[0m df_output, wide_id_vars \u001B[38;5;241m=\u001B[39m \u001B[43mprocess_args_into_dataframe\u001B[49m\u001B[43m(\u001B[49m\n\u001B[0;32m   1493\u001B[0m \u001B[43m    \u001B[49m\u001B[43margs\u001B[49m\u001B[43m,\u001B[49m\u001B[43m \u001B[49m\u001B[43mwide_mode\u001B[49m\u001B[43m,\u001B[49m\u001B[43m \u001B[49m\u001B[43mvar_name\u001B[49m\u001B[43m,\u001B[49m\u001B[43m \u001B[49m\u001B[43mvalue_name\u001B[49m\n\u001B[0;32m   1494\u001B[0m \u001B[43m\u001B[49m\u001B[43m)\u001B[49m\n\u001B[0;32m   1496\u001B[0m \u001B[38;5;66;03m# now that `df_output` exists and `args` contains only references, we complete\u001B[39;00m\n\u001B[0;32m   1497\u001B[0m \u001B[38;5;66;03m# the special-case and wide-mode handling by further rewriting args and/or mutating\u001B[39;00m\n\u001B[0;32m   1498\u001B[0m \u001B[38;5;66;03m# df_output\u001B[39;00m\n\u001B[0;32m   1500\u001B[0m count_name \u001B[38;5;241m=\u001B[39m _escape_col_name(df_output, \u001B[38;5;124m\"\u001B[39m\u001B[38;5;124mcount\u001B[39m\u001B[38;5;124m\"\u001B[39m, [var_name, value_name])\n",
      "File \u001B[1;32m~\\PycharmProject\\pythonProject11\\venv\\Lib\\site-packages\\plotly\\express\\_core.py:1213\u001B[0m, in \u001B[0;36mprocess_args_into_dataframe\u001B[1;34m(args, wide_mode, var_name, value_name)\u001B[0m\n\u001B[0;32m   1211\u001B[0m         \u001B[38;5;28;01mif\u001B[39;00m argument \u001B[38;5;241m==\u001B[39m \u001B[38;5;124m\"\u001B[39m\u001B[38;5;124mindex\u001B[39m\u001B[38;5;124m\"\u001B[39m:\n\u001B[0;32m   1212\u001B[0m             err_msg \u001B[38;5;241m+\u001B[39m\u001B[38;5;241m=\u001B[39m \u001B[38;5;124m\"\u001B[39m\u001B[38;5;130;01m\\n\u001B[39;00m\u001B[38;5;124m To use the index, pass it in directly as `df.index`.\u001B[39m\u001B[38;5;124m\"\u001B[39m\n\u001B[1;32m-> 1213\u001B[0m         \u001B[38;5;28;01mraise\u001B[39;00m \u001B[38;5;167;01mValueError\u001B[39;00m(err_msg)\n\u001B[0;32m   1214\u001B[0m \u001B[38;5;28;01melif\u001B[39;00m length \u001B[38;5;129;01mand\u001B[39;00m \u001B[38;5;28mlen\u001B[39m(df_input[argument]) \u001B[38;5;241m!=\u001B[39m length:\n\u001B[0;32m   1215\u001B[0m     \u001B[38;5;28;01mraise\u001B[39;00m \u001B[38;5;167;01mValueError\u001B[39;00m(\n\u001B[0;32m   1216\u001B[0m         \u001B[38;5;124m\"\u001B[39m\u001B[38;5;124mAll arguments should have the same length. \u001B[39m\u001B[38;5;124m\"\u001B[39m\n\u001B[0;32m   1217\u001B[0m         \u001B[38;5;124m\"\u001B[39m\u001B[38;5;124mThe length of column argument `df[\u001B[39m\u001B[38;5;132;01m%s\u001B[39;00m\u001B[38;5;124m]` is \u001B[39m\u001B[38;5;132;01m%d\u001B[39;00m\u001B[38;5;124m, whereas the \u001B[39m\u001B[38;5;124m\"\u001B[39m\n\u001B[1;32m   (...)\u001B[0m\n\u001B[0;32m   1224\u001B[0m         )\n\u001B[0;32m   1225\u001B[0m     )\n",
      "\u001B[1;31mValueError\u001B[0m: Value of 'x' is not the name of a column in 'data_frame'. Expected one of ['diabetic', 'count'] but received: index\n To use the index, pass it in directly as `df.index`."
     ]
    }
   ],
   "source": [
    "\n",
    "fig = px.bar(dia, x=dia.index, y='diabetic', title='Frequency of Diabetic And Non-Diabetic Person')\n",
    "fig.show()\n",
    "\n",
    "fig = px.bar(x=children.index, y=children.values, title='Frequency Of Person With Their No. Childs')\n",
    "fig.show()\n"
   ]
  },
  {
   "cell_type": "markdown",
   "id": "9c366bdc",
   "metadata": {
    "papermill": {
     "duration": 0.027125,
     "end_time": "2023-06-21T10:22:38.621315",
     "exception": false,
     "start_time": "2023-06-21T10:22:38.594190",
     "status": "completed"
    },
    "tags": []
   },
   "source": [
    "- **CHART-1:** Frequency Of **Non-diabetic** Patient are More than **Diabetic** Patients **(697 & 640,Respectively).**\n",
    "- **CHART-2:** Paitent's With **0 Child** Claimed More Insurance As Compared to Other Patient's."
   ]
  },
  {
   "cell_type": "markdown",
   "id": "8207b9ac",
   "metadata": {
    "papermill": {
     "duration": 0.028097,
     "end_time": "2023-06-21T10:22:38.677115",
     "exception": false,
     "start_time": "2023-06-21T10:22:38.649018",
     "status": "completed"
    },
    "tags": []
   },
   "source": [
    "# Distribution Of Smoker And Non-Smoker Patient"
   ]
  },
  {
   "cell_type": "code",
   "execution_count": null,
   "id": "a354e0c9",
   "metadata": {
    "execution": {
     "iopub.execute_input": "2023-06-21T10:22:38.735055Z",
     "iopub.status.busy": "2023-06-21T10:22:38.733961Z",
     "iopub.status.idle": "2023-06-21T10:22:38.743106Z",
     "shell.execute_reply": "2023-06-21T10:22:38.742247Z"
    },
    "papermill": {
     "duration": 0.04052,
     "end_time": "2023-06-21T10:22:38.745624",
     "exception": false,
     "start_time": "2023-06-21T10:22:38.705104",
     "status": "completed"
    },
    "tags": [],
    "ExecuteTime": {
     "start_time": "2024-03-30T16:45:24.958408100Z"
    }
   },
   "outputs": [],
   "source": [
    "smoker= df[\"smoker\"].value_counts()\n",
    "smoker"
   ]
  },
  {
   "cell_type": "markdown",
   "id": "f73515fb",
   "metadata": {},
   "source": [
    " # Distribution of Region"
   ]
  },
  {
   "cell_type": "code",
   "execution_count": null,
   "id": "bd4a2ffd",
   "metadata": {
    "execution": {
     "iopub.execute_input": "2023-06-21T10:22:38.803212Z",
     "iopub.status.busy": "2023-06-21T10:22:38.802835Z",
     "iopub.status.idle": "2023-06-21T10:22:38.811582Z",
     "shell.execute_reply": "2023-06-21T10:22:38.810539Z"
    },
    "papermill": {
     "duration": 0.040956,
     "end_time": "2023-06-21T10:22:38.814423",
     "exception": false,
     "start_time": "2023-06-21T10:22:38.773467",
     "status": "completed"
    },
    "tags": [],
    "ExecuteTime": {
     "start_time": "2024-03-30T16:45:24.967444100Z"
    }
   },
   "outputs": [],
   "source": [
    "region = df['region'].value_counts()\n",
    "region"
   ]
  },
  {
   "cell_type": "code",
   "execution_count": null,
   "id": "94660d5a",
   "metadata": {
    "execution": {
     "iopub.execute_input": "2023-06-21T10:22:38.873424Z",
     "iopub.status.busy": "2023-06-21T10:22:38.873006Z",
     "iopub.status.idle": "2023-06-21T10:22:39.290730Z",
     "shell.execute_reply": "2023-06-21T10:22:39.289573Z"
    },
    "papermill": {
     "duration": 0.450347,
     "end_time": "2023-06-21T10:22:39.293794",
     "exception": false,
     "start_time": "2023-06-21T10:22:38.843447",
     "status": "completed"
    },
    "tags": [],
    "ExecuteTime": {
     "start_time": "2024-03-30T16:45:24.973467100Z"
    }
   },
   "outputs": [],
   "source": [
    "import plotly.express as px\n",
    "\n",
    "fig = px.pie(df, names='smoker', title='Distribution of Smoker & Non-Smoker with Most No. of Claims')\n",
    "fig.show()\n",
    "\n",
    "fig = px.pie(df, names='region', title='Distribution of Region with Most No. of Claims')\n",
    "fig.show()\n"
   ]
  },
  {
   "cell_type": "markdown",
   "id": "686185c6",
   "metadata": {
    "papermill": {
     "duration": 0.032568,
     "end_time": "2023-06-21T10:22:39.358157",
     "exception": false,
     "start_time": "2023-06-21T10:22:39.325589",
     "status": "completed"
    },
    "tags": []
   },
   "source": [
    "- **CHART-1:** The **Massive No. Of Insurance Claimed** By **Non-Smoker Pateint's** As Compared To **Smoker Pateints** As Shown Figure-1.\n",
    "- **CHART-2:** **Pateints Of Southeast** Claimed **Maximum** No. Of Insurance As Compared To Other Regions."
   ]
  },
  {
   "cell_type": "markdown",
   "id": "7d3af575",
   "metadata": {
    "papermill": {
     "duration": 0.029601,
     "end_time": "2023-06-21T10:22:39.424135",
     "exception": false,
     "start_time": "2023-06-21T10:22:39.394534",
     "status": "completed"
    },
    "tags": []
   },
   "source": [
    "# Claim Amount Distribution"
   ]
  },
  {
   "cell_type": "code",
   "execution_count": null,
   "id": "7c6166e5",
   "metadata": {
    "execution": {
     "iopub.execute_input": "2023-06-21T10:22:39.487707Z",
     "iopub.status.busy": "2023-06-21T10:22:39.486610Z",
     "iopub.status.idle": "2023-06-21T10:22:39.982446Z",
     "shell.execute_reply": "2023-06-21T10:22:39.981257Z"
    },
    "papermill": {
     "duration": 0.530497,
     "end_time": "2023-06-21T10:22:39.985065",
     "exception": false,
     "start_time": "2023-06-21T10:22:39.454568",
     "status": "completed"
    },
    "tags": [],
    "ExecuteTime": {
     "start_time": "2024-03-30T16:45:24.986196600Z"
    }
   },
   "outputs": [],
   "source": [
    "plt.figure(figsize=(15,6))\n",
    "sns.histplot(df['claim'],kde=True)\n",
    "plt.title('Distribution of Claims')\n",
    "plt.grid()\n",
    "plt.show()"
   ]
  },
  {
   "cell_type": "markdown",
   "id": "dd64334c",
   "metadata": {
    "papermill": {
     "duration": 0.030073,
     "end_time": "2023-06-21T10:22:40.045556",
     "exception": false,
     "start_time": "2023-06-21T10:22:40.015483",
     "status": "completed"
    },
    "tags": []
   },
   "source": [
    "- **The Pateint With Lower Claim's is More As Compared Pateint With Higher Claim's.**\n",
    "- Which Means Insurance Claims Amount Between **30000 to 150000** Claimed Most Of The Patients On Other-Hand Frequency of Pateints With Higher Claims Are Very Less."
   ]
  },
  {
   "cell_type": "markdown",
   "id": "0ce08627",
   "metadata": {
    "papermill": {
     "duration": 0.030797,
     "end_time": "2023-06-21T10:22:40.106608",
     "exception": false,
     "start_time": "2023-06-21T10:22:40.075811",
     "status": "completed"
    },
    "tags": []
   },
   "source": [
    "# **Featue Enginiering** "
   ]
  },
  {
   "cell_type": "markdown",
   "id": "38b89f64",
   "metadata": {},
   "source": [
    "## Fetching New BP_Category Column From Existing bloodpressure Column."
   ]
  },
  {
   "cell_type": "code",
   "execution_count": null,
   "id": "77f272dc",
   "metadata": {
    "execution": {
     "iopub.execute_input": "2023-06-21T10:22:40.170259Z",
     "iopub.status.busy": "2023-06-21T10:22:40.169859Z",
     "iopub.status.idle": "2023-06-21T10:22:40.175541Z",
     "shell.execute_reply": "2023-06-21T10:22:40.174448Z"
    },
    "papermill": {
     "duration": 0.040434,
     "end_time": "2023-06-21T10:22:40.177764",
     "exception": false,
     "start_time": "2023-06-21T10:22:40.137330",
     "status": "completed"
    },
    "tags": [],
    "ExecuteTime": {
     "start_time": "2024-03-30T16:45:24.993034300Z"
    }
   },
   "outputs": [],
   "source": [
    "def bp_level(value):\n",
    "    if value <= 120:\n",
    "        return 'Normal BP'\n",
    "    elif value >= 120 and value <=129:\n",
    "        return 'At Risk'\n",
    "    else:\n",
    "        return 'High BP'\n"
   ]
  },
  {
   "cell_type": "code",
   "execution_count": null,
   "id": "f78b3344",
   "metadata": {
    "execution": {
     "iopub.execute_input": "2023-06-21T10:22:40.240831Z",
     "iopub.status.busy": "2023-06-21T10:22:40.240453Z",
     "iopub.status.idle": "2023-06-21T10:22:40.248013Z",
     "shell.execute_reply": "2023-06-21T10:22:40.246834Z"
    },
    "papermill": {
     "duration": 0.042483,
     "end_time": "2023-06-21T10:22:40.250328",
     "exception": false,
     "start_time": "2023-06-21T10:22:40.207845",
     "status": "completed"
    },
    "tags": [],
    "ExecuteTime": {
     "start_time": "2024-03-30T16:45:25.004149Z"
    }
   },
   "outputs": [],
   "source": [
    "df[\"BP_category\"]=df['bloodpressure'].apply(lambda x : bp_level(x))"
   ]
  },
  {
   "cell_type": "markdown",
   "id": "799517c1",
   "metadata": {
    "papermill": {
     "duration": 0.030645,
     "end_time": "2023-06-21T10:22:40.311479",
     "exception": false,
     "start_time": "2023-06-21T10:22:40.280834",
     "status": "completed"
    },
    "tags": []
   },
   "source": [
    "- Created a **Categorical Column**For **Blood Pressure Values**\n",
    "- Converted Values Into Categories As :\n",
    "    - Value <= 120 To **'Normal BP'**\n",
    "    - Value >= 120 And Value <=129 To **'At Risk'**\n",
    "    - Value >129 To **'High Bp'**"
   ]
  },
  {
   "cell_type": "code",
   "execution_count": null,
   "id": "e16b3805",
   "metadata": {
    "execution": {
     "iopub.execute_input": "2023-06-21T10:22:40.374899Z",
     "iopub.status.busy": "2023-06-21T10:22:40.374226Z",
     "iopub.status.idle": "2023-06-21T10:22:40.380128Z",
     "shell.execute_reply": "2023-06-21T10:22:40.379338Z"
    },
    "papermill": {
     "duration": 0.040291,
     "end_time": "2023-06-21T10:22:40.382249",
     "exception": false,
     "start_time": "2023-06-21T10:22:40.341958",
     "status": "completed"
    },
    "tags": [],
    "ExecuteTime": {
     "start_time": "2024-03-30T16:45:25.014195600Z"
    }
   },
   "outputs": [],
   "source": [
    "def bmi_cat(value):\n",
    "    if value <= 18.5:\n",
    "        return 'Under-weight'\n",
    "    elif value > 18.5 and value <=24.9:\n",
    "        return 'Healthy-weight'\n",
    "    elif value > 25.0 and value <=29.9:\n",
    "        return 'Over-weight'\n",
    "    else:\n",
    "        return 'Obesity'"
   ]
  },
  {
   "cell_type": "code",
   "execution_count": null,
   "id": "1d8e0ee9",
   "metadata": {
    "execution": {
     "iopub.execute_input": "2023-06-21T10:22:40.445452Z",
     "iopub.status.busy": "2023-06-21T10:22:40.445028Z",
     "iopub.status.idle": "2023-06-21T10:22:40.451865Z",
     "shell.execute_reply": "2023-06-21T10:22:40.450729Z"
    },
    "papermill": {
     "duration": 0.041328,
     "end_time": "2023-06-21T10:22:40.454013",
     "exception": false,
     "start_time": "2023-06-21T10:22:40.412685",
     "status": "completed"
    },
    "tags": [],
    "ExecuteTime": {
     "start_time": "2024-03-30T16:45:25.024285900Z"
    }
   },
   "outputs": [],
   "source": [
    "df['bmi_category']=df[\"bmi\"].apply(bmi_cat)"
   ]
  },
  {
   "cell_type": "markdown",
   "id": "499a58a9",
   "metadata": {
    "papermill": {
     "duration": 0.029772,
     "end_time": "2023-06-21T10:22:40.513684",
     "exception": false,
     "start_time": "2023-06-21T10:22:40.483912",
     "status": "completed"
    },
    "tags": []
   },
   "source": [
    "- Created a **Categorical Column**For **BMI Values**\n",
    "- Converted Values Into Categories As :\n",
    "    - Value <= 18.5 To **'Undeer-weight'**\n",
    "    - Value >= 18.5 And Value <=24.9 To **'Healthy-weight'**\n",
    "    - Value >25.0 And Value<=29.9 To **'Over-weight'**\n",
    "    - Value > 29.9 To 'Obesity'"
   ]
  },
  {
   "cell_type": "markdown",
   "id": "2a33d79a",
   "metadata": {},
   "source": [
    "# Heatmap"
   ]
  },
  {
   "cell_type": "code",
   "execution_count": null,
   "id": "f49b8a55",
   "metadata": {
    "ExecuteTime": {
     "start_time": "2024-03-30T16:45:25.034399300Z"
    }
   },
   "outputs": [],
   "source": [
    "plt.figure(figsize=(15, 6))\n",
    "sns.heatmap(df.corr(), annot=True, cmap='coolwarm')\n"
   ]
  },
  {
   "cell_type": "markdown",
   "id": "bd63fba9",
   "metadata": {},
   "source": [
    "# Pairplot"
   ]
  },
  {
   "cell_type": "code",
   "execution_count": null,
   "id": "e6b82756",
   "metadata": {
    "ExecuteTime": {
     "start_time": "2024-03-30T16:45:25.040386400Z"
    }
   },
   "outputs": [],
   "source": [
    "import plotly.figure_factory as ff\n",
    "\n",
    "fig = ff.create_scatterplotmatrix(df, diag='histogram', index='PatientID', colormap='Viridis', height=1200, width=1800)\n",
    "fig.update_layout(title='Pairplot of Variables')\n",
    "fig.show()\n"
   ]
  },
  {
   "cell_type": "markdown",
   "id": "167e91e4",
   "metadata": {},
   "source": [
    "## Age Vs Claim Amount (sum)"
   ]
  },
  {
   "cell_type": "code",
   "execution_count": null,
   "id": "0fe0aef3",
   "metadata": {
    "ExecuteTime": {
     "start_time": "2024-03-30T16:45:25.047739300Z"
    }
   },
   "outputs": [],
   "source": [
    "age_group = df.groupby('age').sum()\n",
    "fig = go.Figure(data=go.Scatter(x=age_group.index, y=age_group['claim'],mode='lines+markers'))\n",
    "fig.update_layout(title='Claims over time',xaxis_title='Age',yaxis_title='Claims')\n",
    "fig.show()"
   ]
  },
  {
   "cell_type": "code",
   "execution_count": null,
   "id": "94e2b56a",
   "metadata": {
    "execution": {
     "iopub.execute_input": "2023-06-21T10:22:40.636196Z",
     "iopub.status.busy": "2023-06-21T10:22:40.635573Z",
     "iopub.status.idle": "2023-06-21T10:22:40.653498Z",
     "shell.execute_reply": "2023-06-21T10:22:40.652261Z"
    },
    "papermill": {
     "duration": 0.051985,
     "end_time": "2023-06-21T10:22:40.655846",
     "exception": false,
     "start_time": "2023-06-21T10:22:40.603861",
     "status": "completed"
    },
    "tags": [],
    "ExecuteTime": {
     "start_time": "2024-03-30T16:45:25.054344600Z"
    }
   },
   "outputs": [],
   "source": [
    "df.head()"
   ]
  },
  {
   "cell_type": "markdown",
   "id": "64a1c583",
   "metadata": {
    "papermill": {
     "duration": 0.030813,
     "end_time": "2023-06-21T10:22:40.717893",
     "exception": false,
     "start_time": "2023-06-21T10:22:40.687080",
     "status": "completed"
    },
    "tags": []
   },
   "source": [
    "# What is The Average Insurance Claimed By People Of Different Age ?"
   ]
  },
  {
   "cell_type": "code",
   "execution_count": null,
   "id": "761efa07",
   "metadata": {
    "execution": {
     "iopub.execute_input": "2023-06-21T10:22:40.782089Z",
     "iopub.status.busy": "2023-06-21T10:22:40.780934Z",
     "iopub.status.idle": "2023-06-21T10:22:42.996219Z",
     "shell.execute_reply": "2023-06-21T10:22:42.995126Z"
    },
    "papermill": {
     "duration": 2.250206,
     "end_time": "2023-06-21T10:22:42.999389",
     "exception": false,
     "start_time": "2023-06-21T10:22:40.749183",
     "status": "completed"
    },
    "tags": [],
    "ExecuteTime": {
     "start_time": "2024-03-30T16:45:25.058333500Z"
    }
   },
   "outputs": [],
   "source": [
    "\n",
    "fig = px.bar(df, x='age', y='claim', text='claim',title='Average Insurance Claimed By Different Age')\n",
    "fig.show()\n"
   ]
  },
  {
   "cell_type": "markdown",
   "id": "12847364",
   "metadata": {
    "papermill": {
     "duration": 0.035064,
     "end_time": "2023-06-21T10:22:43.067683",
     "exception": false,
     "start_time": "2023-06-21T10:22:43.032619",
     "status": "completed"
    },
    "tags": []
   },
   "source": [
    "- This Chart Indicates Pateint's Of Diffrent Age Groups Who Claimed Insurances. \n",
    "- As Chart Show's That **30-Year Pateints** Claimed **Highest Average Insurance's** and Pateint with **Age-43 Comes Afterwards**."
   ]
  },
  {
   "cell_type": "markdown",
   "id": "f1f3b292",
   "metadata": {
    "papermill": {
     "duration": 0.030982,
     "end_time": "2023-06-21T10:22:43.130226",
     "exception": false,
     "start_time": "2023-06-21T10:22:43.099244",
     "status": "completed"
    },
    "tags": []
   },
   "source": [
    "#  What is The Average Insurance Claimed By Gender ?"
   ]
  },
  {
   "cell_type": "code",
   "execution_count": null,
   "id": "22533577",
   "metadata": {
    "execution": {
     "iopub.execute_input": "2023-06-21T10:22:43.194206Z",
     "iopub.status.busy": "2023-06-21T10:22:43.193829Z",
     "iopub.status.idle": "2023-06-21T10:22:43.209903Z",
     "shell.execute_reply": "2023-06-21T10:22:43.208812Z"
    },
    "papermill": {
     "duration": 0.051181,
     "end_time": "2023-06-21T10:22:43.212544",
     "exception": false,
     "start_time": "2023-06-21T10:22:43.161363",
     "status": "completed"
    },
    "tags": [],
    "ExecuteTime": {
     "start_time": "2024-03-30T16:45:25.065315300Z"
    }
   },
   "outputs": [],
   "source": [
    "df.groupby(['gender'])['claim'].agg(['mean']).round().sort_values(by='mean',ascending=False)"
   ]
  },
  {
   "cell_type": "code",
   "execution_count": null,
   "id": "5d6d89d8",
   "metadata": {
    "execution": {
     "iopub.execute_input": "2023-06-21T10:22:43.278408Z",
     "iopub.status.busy": "2023-06-21T10:22:43.278007Z",
     "iopub.status.idle": "2023-06-21T10:22:43.630444Z",
     "shell.execute_reply": "2023-06-21T10:22:43.629289Z"
    },
    "papermill": {
     "duration": 0.387924,
     "end_time": "2023-06-21T10:22:43.633235",
     "exception": false,
     "start_time": "2023-06-21T10:22:43.245311",
     "status": "completed"
    },
    "tags": [],
    "ExecuteTime": {
     "start_time": "2024-03-30T16:45:25.069303200Z"
    }
   },
   "outputs": [],
   "source": [
    "\n",
    "fig = px.bar(df, x='gender', y='claim', text='claim',title='Average Insurance Claimed By Gender')\n",
    "fig.show()\n"
   ]
  },
  {
   "cell_type": "markdown",
   "id": "84357eb2",
   "metadata": {
    "papermill": {
     "duration": 0.031655,
     "end_time": "2023-06-21T10:22:43.698163",
     "exception": false,
     "start_time": "2023-06-21T10:22:43.666508",
     "status": "completed"
    },
    "tags": []
   },
   "source": [
    "- **Insights :-** According To Chart, Male Pateints Usually Have Higher Average Claimed Amount As Compared To Female Pateints.\n",
    "- Average Claimed Amount For **Male** is - *13976 (Approx.)*\n",
    "- Average Claimed Amount For **Female** is - *12570 (Approx.)*"
   ]
  },
  {
   "cell_type": "markdown",
   "id": "b952bb27",
   "metadata": {
    "papermill": {
     "duration": 0.032139,
     "end_time": "2023-06-21T10:22:43.762154",
     "exception": false,
     "start_time": "2023-06-21T10:22:43.730015",
     "status": "completed"
    },
    "tags": []
   },
   "source": [
    "#  What is The Average Insurance Claimed By People Categorized With Different Range of BMI?"
   ]
  },
  {
   "cell_type": "code",
   "execution_count": null,
   "id": "81ed9363",
   "metadata": {
    "execution": {
     "iopub.execute_input": "2023-06-21T10:22:43.828425Z",
     "iopub.status.busy": "2023-06-21T10:22:43.827685Z",
     "iopub.status.idle": "2023-06-21T10:22:44.310374Z",
     "shell.execute_reply": "2023-06-21T10:22:44.309252Z"
    },
    "papermill": {
     "duration": 0.51876,
     "end_time": "2023-06-21T10:22:44.312867",
     "exception": false,
     "start_time": "2023-06-21T10:22:43.794107",
     "status": "completed"
    },
    "tags": [],
    "ExecuteTime": {
     "start_time": "2024-03-30T16:45:25.073342500Z"
    }
   },
   "outputs": [],
   "source": [
    "\n",
    "fig = px.bar(df, x='bmi_category', y='claim',text='claim', title='Average Insurance Claimed By Diff. Category Of BMI')\n",
    "fig.show()\n"
   ]
  },
  {
   "cell_type": "markdown",
   "id": "ec885930",
   "metadata": {
    "papermill": {
     "duration": 0.033384,
     "end_time": "2023-06-21T10:22:44.381027",
     "exception": false,
     "start_time": "2023-06-21T10:22:44.347643",
     "status": "completed"
    },
    "tags": []
   },
   "source": [
    "- **Obesity:-** Pateint's With **BMI(Body Mass Index)** Greater Than **30** are Referred as Obesity.\n",
    "- Pateint Who Fall's In **Obesity Category** Claimed **Higher Average Insurance** As Compared To Other Such As **Under-weight or Over-weight**,Etc."
   ]
  },
  {
   "cell_type": "markdown",
   "id": "e6aaaaf7",
   "metadata": {
    "papermill": {
     "duration": 0.032308,
     "end_time": "2023-06-21T10:22:44.446150",
     "exception": false,
     "start_time": "2023-06-21T10:22:44.413842",
     "status": "completed"
    },
    "tags": []
   },
   "source": [
    "#  What is The Average Insurance Claimed By People Categorized With Different Range of Blood Pressure?"
   ]
  },
  {
   "cell_type": "code",
   "execution_count": null,
   "id": "01e429a3",
   "metadata": {
    "execution": {
     "iopub.execute_input": "2023-06-21T10:22:44.513627Z",
     "iopub.status.busy": "2023-06-21T10:22:44.512628Z",
     "iopub.status.idle": "2023-06-21T10:22:44.947349Z",
     "shell.execute_reply": "2023-06-21T10:22:44.946041Z"
    },
    "papermill": {
     "duration": 0.471531,
     "end_time": "2023-06-21T10:22:44.950121",
     "exception": false,
     "start_time": "2023-06-21T10:22:44.478590",
     "status": "completed"
    },
    "tags": [],
    "ExecuteTime": {
     "start_time": "2024-03-30T16:45:25.080351900Z"
    }
   },
   "outputs": [],
   "source": [
    "\n",
    "fig = px.bar(df, x='BP_category', y='claim',text='claim', title='Average Insurance Claimed By Diff. Category Of Blood Pressure')\n",
    "fig.show()\n"
   ]
  },
  {
   "cell_type": "markdown",
   "id": "cb9b19c3",
   "metadata": {
    "papermill": {
     "duration": 0.034335,
     "end_time": "2023-06-21T10:22:45.018895",
     "exception": false,
     "start_time": "2023-06-21T10:22:44.984560",
     "status": "completed"
    },
    "tags": []
   },
   "source": [
    "- Created a **Categorical Column** For **Blood Pressure Values**\n",
    "- Converted Values Into Categories As :\n",
    "    - Value <= 120 To **'Normal BP'**\n",
    "    - Value >= 120 And Value <=129 To **'At Risk'**\n",
    "    - Value >129 To **'High Bp'** \n",
    "- Pateint Who Fall's In **At Risk Category** & **High BP Category** Claimed **Higher Average Insurance** As Compared To **Normal BP**."
   ]
  },
  {
   "cell_type": "markdown",
   "id": "1604bee5",
   "metadata": {
    "papermill": {
     "duration": 0.034677,
     "end_time": "2023-06-21T10:22:45.088796",
     "exception": false,
     "start_time": "2023-06-21T10:22:45.054119",
     "status": "completed"
    },
    "tags": []
   },
   "source": [
    "# What is Average Insurance Claimed By Daibetic And Non-Diabetic Person ?"
   ]
  },
  {
   "cell_type": "code",
   "execution_count": null,
   "id": "9e08f21c",
   "metadata": {
    "execution": {
     "iopub.execute_input": "2023-06-21T10:22:45.158006Z",
     "iopub.status.busy": "2023-06-21T10:22:45.157622Z",
     "iopub.status.idle": "2023-06-21T10:22:45.544758Z",
     "shell.execute_reply": "2023-06-21T10:22:45.543628Z"
    },
    "papermill": {
     "duration": 0.424724,
     "end_time": "2023-06-21T10:22:45.547172",
     "exception": false,
     "start_time": "2023-06-21T10:22:45.122448",
     "status": "completed"
    },
    "tags": [],
    "ExecuteTime": {
     "start_time": "2024-03-30T16:45:25.087208100Z"
    }
   },
   "outputs": [],
   "source": [
    "\n",
    "fig = px.bar(df, x='diabetic', y='claim', text='claim',title='Average Insurance Claimed By Diabetic & Non-Diabetic Person')\n",
    "fig.show()\n"
   ]
  },
  {
   "cell_type": "markdown",
   "id": "e5836919",
   "metadata": {
    "papermill": {
     "duration": 0.035473,
     "end_time": "2023-06-21T10:22:45.617149",
     "exception": false,
     "start_time": "2023-06-21T10:22:45.581676",
     "status": "completed"
    },
    "tags": []
   },
   "source": [
    "- There is **No Variation** in **Average Insurance** Claimed Bu **Diabetic** And **Non-Diabetic** Pateint's.\n",
    "- **Average Insurance** Claimed By **Diabetic** Or **Non-Diabetic** Pateint's Are Almost Equal."
   ]
  },
  {
   "cell_type": "markdown",
   "id": "5574e3c3",
   "metadata": {
    "papermill": {
     "duration": 0.034015,
     "end_time": "2023-06-21T10:22:45.685679",
     "exception": false,
     "start_time": "2023-06-21T10:22:45.651664",
     "status": "completed"
    },
    "tags": []
   },
   "source": [
    "# What is Relation Of Average Insurance Claimed And Person With Their No. Of Children?"
   ]
  },
  {
   "cell_type": "code",
   "execution_count": null,
   "id": "c1e36b60",
   "metadata": {
    "execution": {
     "iopub.execute_input": "2023-06-21T10:22:45.757013Z",
     "iopub.status.busy": "2023-06-21T10:22:45.756574Z",
     "iopub.status.idle": "2023-06-21T10:22:46.305102Z",
     "shell.execute_reply": "2023-06-21T10:22:46.304002Z"
    },
    "papermill": {
     "duration": 0.586883,
     "end_time": "2023-06-21T10:22:46.307505",
     "exception": false,
     "start_time": "2023-06-21T10:22:45.720622",
     "status": "completed"
    },
    "tags": [],
    "ExecuteTime": {
     "start_time": "2024-03-30T16:45:25.091228400Z"
    }
   },
   "outputs": [],
   "source": [
    "\n",
    "fig = px.bar(df, x='children', y='claim', text='claim', title='Average Insurance Claimed By people With No. Of Childs')\n",
    "fig.show()\n"
   ]
  },
  {
   "cell_type": "markdown",
   "id": "98cf5b3b",
   "metadata": {
    "papermill": {
     "duration": 0.035057,
     "end_time": "2023-06-21T10:22:46.379439",
     "exception": false,
     "start_time": "2023-06-21T10:22:46.344382",
     "status": "completed"
    },
    "tags": []
   },
   "source": [
    "# What is Average Insurance Claimed By Smoker And Non-Smoker Person ?"
   ]
  },
  {
   "cell_type": "code",
   "execution_count": null,
   "id": "ed94c3a6",
   "metadata": {
    "execution": {
     "iopub.execute_input": "2023-06-21T10:22:46.451852Z",
     "iopub.status.busy": "2023-06-21T10:22:46.451424Z",
     "iopub.status.idle": "2023-06-21T10:22:46.834053Z",
     "shell.execute_reply": "2023-06-21T10:22:46.832896Z"
    },
    "papermill": {
     "duration": 0.421869,
     "end_time": "2023-06-21T10:22:46.836650",
     "exception": false,
     "start_time": "2023-06-21T10:22:46.414781",
     "status": "completed"
    },
    "tags": [],
    "ExecuteTime": {
     "start_time": "2024-03-30T16:45:25.097177700Z"
    }
   },
   "outputs": [],
   "source": [
    "\n",
    "fig = px.bar(df, x='smoker', y='claim', text='claim', title='Average Insurance Claimed By Smoker & Non-Smoker Person')\n",
    "fig.show()\n"
   ]
  },
  {
   "cell_type": "markdown",
   "id": "53f02c5e",
   "metadata": {
    "papermill": {
     "duration": 0.03537,
     "end_time": "2023-06-21T10:22:46.908051",
     "exception": false,
     "start_time": "2023-06-21T10:22:46.872681",
     "status": "completed"
    },
    "tags": []
   },
   "source": [
    "- There is **Massive Variation** In Average Insurance Claimed By **Smoker And Non-Smoker Pateint's**.\n",
    "- As Graph Indicates **Pateints Who Smoke Claim's Higher Insurance Amount** As Compared To **Non-Smoker Pateints**."
   ]
  },
  {
   "cell_type": "markdown",
   "id": "25077fe9",
   "metadata": {
    "papermill": {
     "duration": 0.035233,
     "end_time": "2023-06-21T10:22:46.979587",
     "exception": false,
     "start_time": "2023-06-21T10:22:46.944354",
     "status": "completed"
    },
    "tags": []
   },
   "source": [
    "# What is Average Insurance Claimed By Regions ?"
   ]
  },
  {
   "cell_type": "code",
   "execution_count": null,
   "id": "b7c04165",
   "metadata": {
    "execution": {
     "iopub.execute_input": "2023-06-21T10:22:47.052646Z",
     "iopub.status.busy": "2023-06-21T10:22:47.052193Z",
     "iopub.status.idle": "2023-06-21T10:22:47.542186Z",
     "shell.execute_reply": "2023-06-21T10:22:47.541347Z"
    },
    "papermill": {
     "duration": 0.530638,
     "end_time": "2023-06-21T10:22:47.545814",
     "exception": false,
     "start_time": "2023-06-21T10:22:47.015176",
     "status": "completed"
    },
    "tags": [],
    "ExecuteTime": {
     "start_time": "2024-03-30T16:45:25.104242100Z"
    }
   },
   "outputs": [],
   "source": [
    "\n",
    "fig = px.bar(df, x='region', y='claim', text='claim', title='Average Insurance Claimed By Different Regions')\n",
    "fig.show()\n"
   ]
  },
  {
   "cell_type": "markdown",
   "id": "6b82f9c9",
   "metadata": {
    "papermill": {
     "duration": 0.037867,
     "end_time": "2023-06-21T10:22:47.624785",
     "exception": false,
     "start_time": "2023-06-21T10:22:47.586918",
     "status": "completed"
    },
    "tags": []
   },
   "source": [
    "- The Figure Represent's The Average Insurance Claimed By The Diffirent Region Such as :\n",
    "    - Southeast\n",
    "    - Northwest\n",
    "    - Southwest\n",
    "    - Northeast\n",
    "- People From **Northeast** Claimed High Average Insurance AS Compared To Pateint's From Other Regions. "
   ]
  },
  {
   "cell_type": "markdown",
   "id": "5bc9c841",
   "metadata": {
    "papermill": {
     "duration": 0.036959,
     "end_time": "2023-06-21T10:22:47.705810",
     "exception": false,
     "start_time": "2023-06-21T10:22:47.668851",
     "status": "completed"
    },
    "tags": []
   },
   "source": [
    "# **Multi-Variate Analysis**"
   ]
  },
  {
   "cell_type": "markdown",
   "id": "1d44c0b1",
   "metadata": {
    "papermill": {
     "duration": 0.038604,
     "end_time": "2023-06-21T10:22:47.787836",
     "exception": false,
     "start_time": "2023-06-21T10:22:47.749232",
     "status": "completed"
    },
    "tags": []
   },
   "source": [
    "# What is the Average Insurance Claimed As Compared To Male-Smoker Or Female-Smoker And \n",
    "# What is the Average Insurance Claimed As Compared To Male-Diabetic Or Female-Diabetic ?"
   ]
  },
  {
   "cell_type": "code",
   "execution_count": null,
   "id": "2727bfe4",
   "metadata": {
    "execution": {
     "iopub.execute_input": "2023-06-21T10:22:47.864068Z",
     "iopub.status.busy": "2023-06-21T10:22:47.862762Z",
     "iopub.status.idle": "2023-06-21T10:22:48.734855Z",
     "shell.execute_reply": "2023-06-21T10:22:48.733785Z"
    },
    "papermill": {
     "duration": 0.912459,
     "end_time": "2023-06-21T10:22:48.737186",
     "exception": false,
     "start_time": "2023-06-21T10:22:47.824727",
     "status": "completed"
    },
    "tags": [],
    "ExecuteTime": {
     "start_time": "2024-03-30T16:45:25.107148800Z"
    }
   },
   "outputs": [],
   "source": [
    "plt.figure(figsize=(16,6))\n",
    "plt.subplot(1,2,1)\n",
    "sns.barplot(x='gender',y='claim',hue=\"smoker\",data=df,edgecolor='black')\n",
    "plt.title(\"Average Claim As Compared To Male Smoker Or Female Smoker\")\n",
    "\n",
    "\n",
    "plt.subplot(1,2,2)\n",
    "sns.barplot(x='gender',y='claim',hue=\"diabetic\",data=df,edgecolor='black')\n",
    "plt.title(\"Average Claim As Compared To Male Diabetic Or Female Diabetic\")\n",
    "plt.show()"
   ]
  },
  {
   "cell_type": "markdown",
   "id": "510ed325",
   "metadata": {
    "papermill": {
     "duration": 0.03879,
     "end_time": "2023-06-21T10:22:48.815891",
     "exception": false,
     "start_time": "2023-06-21T10:22:48.777101",
     "status": "completed"
    },
    "tags": []
   },
   "source": [
    "- **CHART - 1**: Show's Average Insurance Claimed By Male Smoker and Non-Smoker And Female Smoker And Non-Smoker.\n",
    "    - The Graph Clearly Indicate's That **Male Smoker** And **Female Smoker** Claimed High Insurance Amount as Compared To **Non-Smoker Male And Female Pateints**.\n",
    "- **CHART - 2**: Show's Average Insurance Claimed By Male Diabetic Pateints or Non-Diabetic Pateints And Female Diabetic Pateints or Non-Diabetic Pateints.\n",
    "    - The Graph Indicate's That Claims Of **Non-Diabetic Males** Are Slightly Higher Than to **Diabetic Males**.\n",
    "    - And **Diabetic Females** And **Non-Diabetic Females** Are Claimed **Equally** For Insurance."
   ]
  },
  {
   "cell_type": "markdown",
   "id": "acadefe8",
   "metadata": {
    "execution": {
     "iopub.execute_input": "2023-06-05T08:19:43.416614Z",
     "iopub.status.busy": "2023-06-05T08:19:43.415519Z",
     "iopub.status.idle": "2023-06-05T08:19:43.422947Z",
     "shell.execute_reply": "2023-06-05T08:19:43.421135Z",
     "shell.execute_reply.started": "2023-06-05T08:19:43.416561Z"
    },
    "papermill": {
     "duration": 0.036725,
     "end_time": "2023-06-21T10:22:48.890364",
     "exception": false,
     "start_time": "2023-06-21T10:22:48.853639",
     "status": "completed"
    },
    "tags": []
   },
   "source": [
    "# What Is The Relation Of Average Claim as Compared to Region,Gender,BP_Category ? "
   ]
  },
  {
   "cell_type": "code",
   "execution_count": null,
   "id": "c3ae56c3",
   "metadata": {
    "execution": {
     "iopub.execute_input": "2023-06-21T10:22:48.966314Z",
     "iopub.status.busy": "2023-06-21T10:22:48.965908Z",
     "iopub.status.idle": "2023-06-21T10:22:50.366390Z",
     "shell.execute_reply": "2023-06-21T10:22:50.365161Z"
    },
    "papermill": {
     "duration": 1.441675,
     "end_time": "2023-06-21T10:22:50.369185",
     "exception": false,
     "start_time": "2023-06-21T10:22:48.927510",
     "status": "completed"
    },
    "tags": [],
    "ExecuteTime": {
     "start_time": "2024-03-30T16:45:25.114132800Z"
    }
   },
   "outputs": [],
   "source": [
    "# Region, Gender vs Claim\n",
    "plt.figure(figsize=(16,6))\n",
    "plt.subplot(1,2,1)\n",
    "sns.barplot(x='region',y='claim',hue=\"gender\",data=df,edgecolor='black')\n",
    "plt.title(\"Average Claim With Region And gender\")\n",
    "plt.subplot(1,2,2)\n",
    "sns.barplot(x='region',y='claim',hue=\"BP_category\",data=df,edgecolor='black')\n",
    "plt.title(\"Average Claim With Region And BP_Category\")\n",
    "plt.show()"
   ]
  },
  {
   "cell_type": "markdown",
   "id": "f4a79d11",
   "metadata": {
    "papermill": {
     "duration": 0.037828,
     "end_time": "2023-06-21T10:22:50.446524",
     "exception": false,
     "start_time": "2023-06-21T10:22:50.408696",
     "status": "completed"
    },
    "tags": []
   },
   "source": [
    "# Determine The Relations of BP_category And BMI_category With Gender And Average Claim's ?"
   ]
  },
  {
   "cell_type": "code",
   "execution_count": null,
   "id": "d4dcb90b",
   "metadata": {
    "execution": {
     "iopub.execute_input": "2023-06-21T10:22:50.524116Z",
     "iopub.status.busy": "2023-06-21T10:22:50.523721Z",
     "iopub.status.idle": "2023-06-21T10:22:51.641652Z",
     "shell.execute_reply": "2023-06-21T10:22:51.640434Z"
    },
    "papermill": {
     "duration": 1.159785,
     "end_time": "2023-06-21T10:22:51.644161",
     "exception": false,
     "start_time": "2023-06-21T10:22:50.484376",
     "status": "completed"
    },
    "tags": [],
    "ExecuteTime": {
     "start_time": "2024-03-30T16:45:25.120119800Z"
    }
   },
   "outputs": [],
   "source": [
    "plt.figure(figsize=(16,6))\n",
    "plt.subplot(1,2,1)\n",
    "sns.barplot(x='BP_category',y='claim',hue=\"gender\",data=df,edgecolor='black')\n",
    "plt.title(\"Relationship of BP_category With Gender And Average Claim\")\n",
    "plt.subplot(1,2,2)\n",
    "sns.barplot(x='bmi_category',y='claim',hue=\"gender\",data=df,edgecolor='black')\n",
    "plt.title(\"Relationship of BMI_category With Gender And Average Claim\")\n",
    "plt.show()"
   ]
  },
  {
   "cell_type": "markdown",
   "id": "6f7811f0",
   "metadata": {
    "papermill": {
     "duration": 0.04304,
     "end_time": "2023-06-21T10:22:51.730716",
     "exception": false,
     "start_time": "2023-06-21T10:22:51.687676",
     "status": "completed"
    },
    "tags": []
   },
   "source": [
    "- **CHART-1:** Indicate's Relationship Of Blood Pressure Categories With Gender as well as Average Claim by Pateints.\n",
    "    - As We Can See That Both Male ANd Female Pateint's With High BP And Pateint's Who fall's In At Risk Category,\n",
    "    - And Claimed Higher Average Insurance As Compared To Normal BP Pateints.\n",
    "- **CHART-2:** Indicate's Relationship Of BMI Categories With Gender as well as Average Claim by Pateints.\n",
    "    - Obesity Male And Female Pateints Claimed Higher Average Insurance As Compared To Other BMI Categories.\n",
    "    - Under-weight Female Pateints Claimed Higher Amount as Compared to Under-weight Male Pateints"
   ]
  },
  {
   "cell_type": "markdown",
   "id": "d8d949f8",
   "metadata": {},
   "source": [
    "# Insights"
   ]
  },
  {
   "cell_type": "markdown",
   "id": "d6919cfd",
   "metadata": {},
   "source": [
    "- **Age:** Distribution Of Age Indicate's That **Most Insurance Claimed** By Those Patients Whose Age Lie Between **30 to 50 years.**\n",
    "\n",
    "- **Gender:** Shows There Are **Almost Equal Distribution** of **Male** & **Female** in Terms Of Insurance Claims (**675** & **662** Respectively). And Male Pateint's Claimed **Higher Average Insurance** As Compared to Female Pateint's.\n",
    "\n",
    "- **BMI :** Indicate's The **Normal Distribution of BMI** Of Patient's Data\n",
    "- **Blood Pressure :** Indicate's That Majority Of Patients Has **Normal Blood  Pressure** Between **80 to 110.**\n",
    "\n",
    "- **Region :** Shows That **Southeast Region** Has **Highest Number of Insurance Claims** Compared To Other Region's\n",
    "\n",
    "- **Smoker :** Shows That **Non-Smoker** Has **Higher Number of Insurance Claims** Compared To **Smoker**\n",
    "\n",
    "- **Children :** Shows That **Majority of Patients** Has **No Children**\n",
    "\n",
    "- **Insurance Claim :** Shows That **Most Insurance Claims** Are **Accepted** Compared To **Rejected** Claims\n",
    "\n",
    "- **Insurance Claim Amount :** Shows That **Most Insurance Claims** Are **Less than 15,000**\n",
    "\n",
    "- **Diabetic :** Shows That **Majority of Patients** Are **Non-Diabetic**\n",
    "\n",
    "- **Smoker :** Shows That **Majority of Patients** Are **Non-Smoker**\n",
    "\n",
    "- **The Pateint With Lower Claim's is More As Compared Pateint With Higher Claim's.**. Which Means Insurance Claim Amount  **Less than 15000** is Claimed by Most Of The Patients On Other-Hand Frequency of Pateints With Higher Claims Are Very Less.\n",
    "\n",
    "- Both Male ANd Female Pateint's With High BP And Pateint's Who fall's In At Risk Category. And Claimed Higher Average Insurance As Compared To Normal BP Pateints.\n",
    "\n",
    "-  Obesity Male And Female Pateints Claimed Higher Average Insurance As Compared To Other BMI Categories.\n",
    "- Under-weight Female Pateints Claimed Higher Amount as Compared to Under-weight Male Pateints\n",
    "\n",
    "- Both Male and Female Patients from northeast region claimed higher average insurance as compared to other regions.\n",
    "\n",
    "- **Male Smoker** And **Female Smoker** Claimed High Insurance Amount as Compared To **Non-Smoker Male And Female Pateints**.\n",
    "- Claims Of **Non-Diabetic Males** Are Slightly Higher Than to **Diabetic Males**. And **Diabetic Females** And **Non-Diabetic Females** Are Claimed **Equally** For Insurance.\n"
   ]
  },
  {
   "cell_type": "markdown",
   "id": "e5322d1d",
   "metadata": {},
   "source": []
  }
 ],
 "metadata": {
  "kernelspec": {
   "display_name": "Python 3",
   "language": "python",
   "name": "python3"
  },
  "language_info": {
   "codemirror_mode": {
    "name": "ipython",
    "version": 3
   },
   "file_extension": ".py",
   "mimetype": "text/x-python",
   "name": "python",
   "nbconvert_exporter": "python",
   "pygments_lexer": "ipython3",
   "version": "3.11.4"
  },
  "papermill": {
   "default_parameters": {},
   "duration": 32.520126,
   "end_time": "2023-06-21T10:22:52.962507",
   "environment_variables": {},
   "exception": null,
   "input_path": "__notebook__.ipynb",
   "output_path": "__notebook__.ipynb",
   "parameters": {},
   "start_time": "2023-06-21T10:22:20.442381",
   "version": "2.4.0"
  }
 },
 "nbformat": 4,
 "nbformat_minor": 5
}
